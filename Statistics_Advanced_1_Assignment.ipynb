{
  "nbformat": 4,
  "nbformat_minor": 0,
  "metadata": {
    "colab": {
      "provenance": []
    },
    "kernelspec": {
      "name": "python3",
      "display_name": "Python 3"
    },
    "language_info": {
      "name": "python"
    }
  },
  "cells": [
    {
      "cell_type": "markdown",
      "metadata": {
        "id": "1ae4e22f"
      },
      "source": [
        "**Question 1: What is a random variable in probability theory?**\n",
        "\n",
        "=> A random variable is a variable whose value is a numerical outcome of a random phenomenon. It's a function that maps the outcomes of a random process to a numerical value. For example, if you flip a coin twice, the number of heads is a random variable that can take values 0, 1, or 2."
      ]
    },
    {
      "cell_type": "markdown",
      "metadata": {
        "id": "76d9baec"
      },
      "source": [
        "**Question 2: What are the types of random variables?**\n",
        "\n",
        "=> There are two main types of random variables:\n",
        "\n",
        "*   **Discrete Random Variable:** A variable that can only take on a finite or countably infinite number of distinct values. These values are often integers. Examples include the number of heads in a series of coin flips, the number of defective items in a sample, or the number of cars passing a point on a road in an hour.\n",
        "\n",
        "*   **Continuous Random Variable:** A variable that can take on any value within a given range or interval. These values can be real numbers. Examples include height, weight, time, or temperature."
      ]
    },
    {
      "cell_type": "markdown",
      "metadata": {
        "id": "56c8f2aa"
      },
      "source": [
        "**Question 3: Explain the difference between discrete and continuous distributions.**\n",
        "\n",
        "=> The difference between discrete and continuous distributions lies in the type of random variable they describe:\n",
        "\n",
        "*   **Discrete Distribution:** Describes the probabilities of outcomes for a discrete random variable. The probabilities are assigned to specific, distinct values. Examples include the probability mass function (PMF) for a binomial distribution or a Poisson distribution.\n",
        "*   **Continuous Distribution:** Describes the probabilities of outcomes for a continuous random variable. The probability of any single exact value is zero; probabilities are defined over intervals. Examples include the probability density function (PDF) for a normal distribution or an exponential distribution."
      ]
    },
    {
      "cell_type": "markdown",
      "metadata": {
        "id": "27130941"
      },
      "source": [
        "**Question 4: What is a binomial distribution, and how is it used in probability?**\n",
        "\n",
        "=> A binomial distribution is a discrete probability distribution that describes the probability of obtaining a certain number of successes in a fixed number of independent Bernoulli trials (trials with only two possible outcomes, typically labeled \"success\" and \"failure\").\n",
        "\n",
        "It's used in probability to model scenarios where you have a series of independent trials, each with the same probability of success, and you want to find the probability of a specific number of successes within those trials. Examples include the number of heads in a series of coin flips, the number of defective items in a batch, or the number of customers who make a purchase from a certain number of visitors to a website."
      ]
    },
    {
      "cell_type": "markdown",
      "metadata": {
        "id": "0887ba14"
      },
      "source": [
        "**Question 5: What is the standard normal distribution, and why is it important?**\n",
        "\n",
        "=> The standard normal distribution is a specific normal distribution with a mean of 0 and a standard deviation of 1. It is also known as the Z-distribution.\n",
        "\n",
        "It is important for several reasons:\n",
        "\n",
        "*   **Standardization:** Any normal distribution can be transformed into the standard normal distribution by standardizing the values (calculating Z-scores). This allows for comparison of values from different normal distributions.\n",
        "*   **Probability Calculation:** The probabilities for any normal distribution can be found using the standard normal distribution table (or Z-table) or statistical software, by first converting the values to Z-scores.\n",
        "*   **Foundation for Statistical Inference:** Many statistical tests and confidence interval calculations are based on the properties of the standard normal distribution, especially when sample sizes are large (due to the Central Limit Theorem)."
      ]
    },
    {
      "cell_type": "markdown",
      "metadata": {
        "id": "05901a96"
      },
      "source": [
        "**Question 6: What is the Central Limit Theorem (CLT), and why is it critical in statistics?**\n",
        "\n",
        "=> The Central Limit Theorem (CLT) is a fundamental theorem in statistics. It states that if you take sufficiently large random samples from any population with a finite mean and variance, the distribution of the sample means will be approximately normally distributed, regardless of the original distribution of the population.\n",
        "\n",
        "The CLT is critical for several reasons:\n",
        "\n",
        "*   **Foundation for Inferential Statistics:** Many statistical methods, such as hypothesis testing and constructing confidence intervals, rely on the assumption of normality. The CLT allows us to apply these methods even when the original population distribution is not normal, as long as the sample size is large enough.\n",
        "*   **Estimation of Population Parameters:** The CLT allows us to use the sample mean to estimate the population mean and to understand the variability of these estimates.\n",
        "*   **Simplification of Problems:** It simplifies many statistical problems by allowing us to work with the normal distribution, which is well-understood and has readily available tables and software for calculations."
      ]
    },
    {
      "cell_type": "markdown",
      "metadata": {
        "id": "6a63a750"
      },
      "source": [
        "**Question 7: What is the significance of confidence intervals in statistical analysis?**\n",
        "\n",
        "=> Confidence intervals are important in statistical analysis because they provide a range of plausible values for an unknown population parameter (like the mean or proportion) based on a sample from that population. Instead of just providing a single point estimate, which is unlikely to be exactly correct, a confidence interval gives us a sense of the precision and uncertainty around that estimate. A 95% confidence interval, for example, means that if we were to take many random samples and calculate a confidence interval for each, about 95% of those intervals would contain the true population parameter. This helps in making informed decisions and drawing conclusions from data, as it quantifies the reliability of the estimate."
      ]
    },
    {
      "cell_type": "markdown",
      "metadata": {
        "id": "b4932ad5"
      },
      "source": [
        "**Question 8: What is the concept of expected value in a probability distribution?**\n",
        "\n",
        "=> The expected value (or expectation) of a random variable is the weighted average of all possible values that the random variable can take on, where the weights are the probabilities of each value. It represents the average outcome you would expect if you repeated the random process many times.\n",
        "\n",
        "For a discrete random variable X with possible values x₁, x₂, ..., xn and corresponding probabilities P(X=x₁), P(X=x₂), ..., P(X=xn), the expected value is calculated as:\n",
        "\n",
        "E(X) = Σ [xi * P(X=xi)]\n",
        "\n",
        "For a continuous random variable X with a probability density function f(x), the expected value is calculated using an integral:\n",
        "\n",
        "E(X) = ∫ [x * f(x) dx]\n",
        "\n",
        "In simple terms, it's the long-run average of the random variable."
      ]
    },
    {
      "cell_type": "code",
      "source": [
        "#Question 9: Write a Python program to generate 1000 random numbers from a normal distribution with mean = 50 and standard deviation = 5.\n",
        "#Compute its mean and standard deviation using NumPy, and draw a histogram to visualize the distribution.\n",
        "#(Include your Python code and output in the code box below.)\n",
        "\n",
        "\n",
        "import numpy as np\n",
        "import matplotlib.pyplot as plt\n",
        "\n",
        "# Step 1: Generate 1000 random numbers from a normal distribution\n",
        "mean = 50\n",
        "std_dev = 5\n",
        "size = 1000\n",
        "data = np.random.normal(mean, std_dev, size)\n",
        "\n",
        "# Step 2: Compute mean and standard deviation using NumPy\n",
        "calculated_mean = np.mean(data)\n",
        "calculated_std = np.std(data)\n",
        "\n",
        "print(f\"Calculated Mean: {calculated_mean:.2f}\")\n",
        "print(f\"Calculated Standard Deviation: {calculated_std:.2f}\")\n",
        "\n",
        "# Step 3: Draw a histogram\n",
        "plt.hist(data, bins=30, edgecolor='black', alpha=0.7)\n",
        "plt.title(\"Histogram of Normally Distributed Random Numbers\")\n",
        "plt.xlabel(\"Value\")\n",
        "plt.ylabel(\"Frequency\")\n",
        "plt.axvline(calculated_mean, color='red', linestyle='dashed', linewidth=2, label=f\"Mean = {calculated_mean:.2f}\")\n",
        "plt.legend()\n",
        "plt.show()\n"
      ],
      "metadata": {
        "colab": {
          "base_uri": "https://localhost:8080/",
          "height": 507
        },
        "id": "BsjApyEAxnjn",
        "outputId": "85405d14-89df-44b8-8869-b48c65f2aff7"
      },
      "execution_count": 1,
      "outputs": [
        {
          "output_type": "stream",
          "name": "stdout",
          "text": [
            "Calculated Mean: 50.11\n",
            "Calculated Standard Deviation: 4.76\n"
          ]
        },
        {
          "output_type": "display_data",
          "data": {
            "text/plain": [
              "<Figure size 640x480 with 1 Axes>"
            ],
            "image/png": "[encoded data removed]"
          },
          "metadata": {}
        }
      ]
    },
    {
      "cell_type": "markdown",
      "metadata": {
        "id": "385c973a"
      },
      "source": [
        "**Question 10:** You are working as a data analyst for a retail company. The company has collected daily sales data for 2 years and wants you to identify the overall sales trend.\n",
        "\n",
        "daily_sales = [220, 245, 210, 265, 230, 250, 260, 275, 240, 255, 235, 260, 245, 250, 225, 270, 265, 255, 250, 260]\n",
        "\n",
        "● Explain how you would apply the Central Limit Theorem to estimate the average sales with a 95% confidence interval.\n",
        "\n",
        "● Write the Python code to compute the mean sales and its confidence interval. (Include your Python code and output in the code box below.)\n",
        "\n",
        "=>\n",
        "Apply the Central Limit Theorem (CLT) to estimate the average sales with a 95% confidence interval:\n",
        "\n",
        "Even though you have daily sales data for 2 years, the provided `daily_sales` list only contains 20 data points, which is a small sample. Ideally, with a larger dataset of 2 years of daily sales (approximately 730 data points), you could apply the CLT more directly. However, based on the provided small sample, we can illustrate the concept:\n",
        "\n",
        "1.  **Understanding the Sample:** You have a sample of daily sales data (`daily_sales`). This sample comes from the larger population of all daily sales for the company over the 2 years.\n",
        "\n",
        "2.  **Applying the CLT (Conceptual):** The Central Limit Theorem states that if you take sufficiently large random samples from any population, the distribution of the sample means will be approximately normally distributed, regardless of the original distribution of the population. While your provided sample of 20 is small, if you were to take *many* samples of size 20 from the 2 years of data and calculate the mean of each sample, the distribution of *these sample means* would tend towards a normal distribution.\n",
        "\n",
        "3.  **Estimating the Population Mean:** The mean of your sample (`daily_sales`) is the best point estimate for the true average daily sales of the company over the 2 years.\n",
        "\n",
        "4.  **Constructing the Confidence Interval:** To quantify the uncertainty around this point estimate, you construct a confidence interval. A 95% confidence interval for the mean means that if you were to repeat the sampling process many times, 95% of the intervals you construct would contain the true population mean.\n",
        "\n",
        "    *   For a large sample size (which we would assume if you had the full 2 years of data), you would typically use the Z-distribution.\n",
        "    *   For a small sample size (like the provided 20 data points), it's more appropriate to use the t-distribution, which accounts for the increased uncertainty due to the smaller sample.\n",
        "\n",
        "    The formula for a confidence interval for the mean is:\n",
        "\n",
        "    Sample Mean ± (Critical Value * Standard Error)\n",
        "\n",
        "    Where:\n",
        "    *   **Sample Mean:** The calculated mean of your sample data.\n",
        "    *   **Critical Value:** This comes from the t-distribution (for small samples) or Z-distribution (for large samples) and depends on the desired confidence level (95% in this case) and the degrees of freedom (n-1 for the t-distribution).\n",
        "    *   **Standard Error:** This is an estimate of the standard deviation of the sample means, calculated as Sample Standard Deviation / sqrt(Sample Size).\n",
        "\n",
        "In essence, the CLT allows us to assume (with a large enough sample) that the distribution of sample means is normal, which is a requirement for many statistical methods like constructing confidence intervals for the population mean. With a small sample, we use the t-distribution as a more robust approach."
      ]
    },
    {
      "cell_type": "code",
      "source": [
        "import numpy as np\n",
        "import scipy.stats as st\n",
        "\n",
        "# Given daily sales data\n",
        "daily_sales = [220, 245, 210, 265, 230, 250, 260, 275, 240, 255,\n",
        "               235, 260, 245, 250, 225, 270, 265, 255, 250, 260]\n",
        "\n",
        "# Convert to numpy array\n",
        "data = np.array(daily_sales)\n",
        "\n",
        "# Step 1: Compute mean and standard error\n",
        "mean_sales = np.mean(data)\n",
        "std_err = st.sem(data)  # Standard error of the mean\n",
        "\n",
        "# Step 2: 95% Confidence Interval using t-distribution\n",
        "confidence_level = 0.95\n",
        "ci = st.t.interval(confidence_level, len(data)-1, loc=mean_sales, scale=std_err)\n",
        "\n",
        "# Output\n",
        "print(f\"Mean Sales: {mean_sales:.2f}\")\n",
        "print(f\"95% Confidence Interval: {ci}\")\n"
      ],
      "metadata": {
        "colab": {
          "base_uri": "https://localhost:8080/"
        },
        "id": "xiK-Vg0Iycfv",
        "outputId": "f258b3c7-f441-4521-e1be-158a0b0f5ade"
      },
      "execution_count": 4,
      "outputs": [
        {
          "output_type": "stream",
          "name": "stdout",
          "text": [
            "Mean Sales: 248.25\n",
            "95% Confidence Interval: (np.float64(240.16957025147158), np.float64(256.3304297485284))\n"
          ]
        }
      ]
    }
  ]
}