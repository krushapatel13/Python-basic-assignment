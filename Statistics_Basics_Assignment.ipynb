{
  "nbformat": 4,
  "nbformat_minor": 0,
  "metadata": {
    "colab": {
      "provenance": []
    },
    "kernelspec": {
      "name": "python3",
      "display_name": "Python 3"
    },
    "language_info": {
      "name": "python"
    }
  },
  "cells": [
    {
      "cell_type": "markdown",
      "source": [
        "**Question 1:** What is the difference between descriptive statistics and inferential statistics? Explain with examples.\n",
        "\n",
        "=>\n",
        "1. Descriptive Statistics\n",
        "\n",
        "Definition: Descriptive statistics is about summarizing and describing the important features of a dataset.\n",
        "\n",
        "It deals with what the data shows (present or past information), without making predictions or generalizations beyond the given data.\n",
        "\n",
        "Tools/Measures: Mean, Median, Mode, Range, Standard Deviation, Charts, Tables, Graphs.\n",
        "\n",
        "Example:\n",
        "If we consider that you have the exam marks of 50 students in your class.\n",
        "\n",
        "You calculate the average score = 72,\n",
        "\n",
        "The highest score = 95,\n",
        "\n",
        "The lowest score = 40,\n",
        "\n",
        "You make a bar chart showing frequency of marks.\n",
        "\n",
        "Here, you are only describing the data you already have.\n",
        "\n",
        "2. Inferential Statistics\n",
        "\n",
        "Definition: Inferential statistics is about drawing conclusions, predictions, or generalizations about a population using data from a sample.\n",
        "\n",
        "It goes beyond the data and helps in decision-making and hypothesis testing.\n",
        "\n",
        "Tools/Methods: Hypothesis Testing, Confidence Intervals, Regression, ANOVA, Correlation, Probability distributions.\n",
        "\n",
        "Example:\n",
        "here, if we consider that you surveyed 100 students from your university about their average daily study time. You found the average is 3 hours/day.\n",
        "\n",
        "Using inferential statistics, you estimate that the average study time of all students in the university (population) is around 3 hours/day.\n"
      ],
      "metadata": {
        "id": "NGe93YhVrwNU"
      }
    },
    {
      "cell_type": "markdown",
      "source": [
        "**Question 2:** What is sampling in statistics? Explain the differences between random and stratified sampling.\n",
        "\n",
        "\n",
        "=>\n",
        "\n",
        "What is Sampling in Statistics?\n",
        "\n",
        "Sampling is the process of selecting a subset (sample) from a larger group (population) in order to study and make conclusions about the entire population. It saves time, cost, and effort compared to studying the whole population.\n",
        "\n",
        "Difference between Random sampling and stratified sampling ->\n",
        "\n",
        "- Random Sampling\n",
        "\n",
        "Every member of the population has an equal chance of being chosen.\n",
        "\n",
        "It reduces selection bias.\n",
        "\n",
        "Selection is completely by chance, without considering subgroups.\n",
        "\n",
        "- Stratified Sampling\n",
        "\n",
        "The population is divided into groups (strata) based on specific characteristics.\n",
        "\n",
        "Samples are then drawn from each group, usually in proportion to the group size.\n",
        "\n",
        "Ensures fair representation of all subgroups."
      ],
      "metadata": {
        "id": "lY2anslAslIy"
      }
    },
    {
      "cell_type": "markdown",
      "source": [
        "**Question 3:** Define mean, median, and mode. Explain why these measures of central\n",
        "tendency are important.\n",
        "\n",
        "=>\n",
        "1. Mean (Arithmetic Average)\n",
        "\n",
        "It is the sum of all data values divided by the number of values.\n",
        "\n",
        "Formula:\n",
        "\n",
        "                Mean = Sum of all values/ Number of values\n",
        "\t​\n",
        "\n",
        "2. Median\n",
        "\n",
        "It is the middle value when all data values are arranged in order.\n",
        "\n",
        "If the number of values is even, the median is the average of the two middle values.\n",
        "\n",
        "3. Mode\n",
        "\n",
        "It is the value that occurs most frequently in a dataset.\n",
        "\n",
        "A dataset can have no mode, one mode, or multiple modes.\n",
        "\n",
        "- Why are these measures important?\n",
        "\n",
        "These three are called measures of central tendency because they describe the center point of a dataset, helping us understand the “typical” value.\n",
        "\n",
        "Mean: Considers all values; useful for overall comparison.\n",
        "\n",
        "Median: Useful when data has extreme values (outliers) since it is not affected by very large or very small values.\n",
        "\n",
        "Mode: Useful for identifying the most common or popular value in a dataset (especially in categorical data)."
      ],
      "metadata": {
        "id": "U-3uPNKCtKwD"
      }
    },
    {
      "cell_type": "markdown",
      "source": [
        "**Question 4:** Explain skewness and kurtosis. What does a positive skew imply about the data?\n",
        "\n",
        "=>\n",
        "1. Skewness\n",
        "\n",
        "Definition: Skewness measures the asymmetry of a data distribution around its mean.\n",
        "\n",
        "Types:\n",
        "\n",
        "- Symmetrical (Skewness = 0): Data is evenly spread on both sides of the mean (like a normal distribution).\n",
        "\n",
        "- Positive Skew (Right Skew): Tail is longer on the right side → more smaller values, fewer very large values.\n",
        "\n",
        "- Negative Skew (Left Skew): Tail is longer on the left side → more larger values, fewer very small values.\n",
        "\n",
        "2. Kurtosis\n",
        "\n",
        "Definition: Kurtosis measures the “tailedness” or peakedness of a distribution compared to a normal distribution.\n",
        "\n",
        "Types:\n",
        "\n",
        "- Mesokurtic (Kurtosis ≈ 3): Normal bell-shaped curve.\n",
        "\n",
        "- Leptokurtic (Kurtosis > 3): Sharper peak, fatter tails → more outliers.\n",
        "\n",
        "- Platykurtic (Kurtosis < 3): Flatter peak, thinner tails → fewer outliers.\n",
        "\n",
        "3. What does a Positive Skew imply?\n",
        "\n",
        "A positive skew (right skew) means:\n",
        "\n",
        "- Most values are concentrated on the left side (lower values).\n",
        "\n",
        "- A few extremely high values stretch the tail on the right.\n",
        "\n",
        "- In such distributions, mean > median > mode."
      ],
      "metadata": {
        "id": "mzUBuCavuN2l"
      }
    },
    {
      "cell_type": "markdown",
      "source": [
        "**Question 5**: Implement a Python program to compute the mean, median, and mode of a given list of numbers\n",
        "\n",
        "numbers = [12, 15, 12, 18, 19, 12, 20, 22, 19, 19, 24, 24, 24, 26, 28]\n"
      ],
      "metadata": {
        "id": "9nxACYNSuwLA"
      }
    },
    {
      "cell_type": "code",
      "source": [
        "import statistics as stats\n",
        "\n",
        "numbers = [12, 15, 12, 18, 19, 12, 20, 22, 19, 19, 24, 24, 24, 26, 28]\n",
        "\n",
        "# Calculate Mean\n",
        "mean_value = stats.mean(numbers)\n",
        "\n",
        "# Calculate Median\n",
        "median_value = stats.median(numbers)\n",
        "\n",
        "# Calculate Mode\n",
        "mode_value = stats.mode(numbers)\n",
        "\n",
        "# Print results\n",
        "print(\"Numbers:\", numbers)\n",
        "print(\"Mean:\", mean_value)\n",
        "print(\"Median:\", median_value)\n",
        "print(\"Mode:\", mode_value)"
      ],
      "metadata": {
        "colab": {
          "base_uri": "https://localhost:8080/"
        },
        "id": "t_ykSrxvu7-k",
        "outputId": "25dddf16-fae4-42b5-b134-2772c635a10c"
      },
      "execution_count": 4,
      "outputs": [
        {
          "output_type": "stream",
          "name": "stdout",
          "text": [
            "Numbers: [12, 15, 12, 18, 19, 12, 20, 22, 19, 19, 24, 24, 24, 26, 28]\n",
            "Mean: 19.6\n",
            "Median: 19\n",
            "Mode: 12\n"
          ]
        }
      ]
    },
    {
      "cell_type": "markdown",
      "source": [
        "**Question 6:** Compute the covariance and correlation coefficient between the following two datasets provided as lists in Python:\n",
        "\n",
        "list_x = [10, 20, 30, 40, 50]\n",
        "list_y = [15, 25, 35, 45, 60]"
      ],
      "metadata": {
        "id": "GqIcJObJvggV"
      }
    },
    {
      "cell_type": "code",
      "source": [
        "import numpy as np\n",
        "\n",
        "list_x = [10, 20, 30, 40, 50]\n",
        "list_y = [15, 25, 35, 45, 60]\n",
        "\n",
        "# Convert to numpy arrays\n",
        "x = np.array(list_x)\n",
        "y = np.array(list_y)\n",
        "\n",
        "# Compute Covariance Matrix\n",
        "cov_matrix = np.cov(x, y, bias=True)  # bias=True → population covariance\n",
        "covariance = cov_matrix[0, 1]\n",
        "\n",
        "# Compute Correlation Coefficient\n",
        "correlation = np.corrcoef(x, y)[0, 1]\n",
        "\n",
        "print(\"Covariance:\", covariance)\n",
        "print(\"Correlation Coefficient:\", correlation)"
      ],
      "metadata": {
        "colab": {
          "base_uri": "https://localhost:8080/"
        },
        "id": "7tAn2bxhvp8A",
        "outputId": "7b2af2ed-36f8-46cc-86eb-8f09c6f775a7"
      },
      "execution_count": 6,
      "outputs": [
        {
          "output_type": "stream",
          "name": "stdout",
          "text": [
            "Covariance: 220.0\n",
            "Correlation Coefficient: 0.995893206467704\n"
          ]
        }
      ]
    },
    {
      "cell_type": "markdown",
      "source": [
        "**Question 7:** Write a Python script to draw a boxplot for the following numeric list and identify its outliers. Explain the result:\n",
        "\n",
        "data = [12, 14, 14, 15, 18, 19, 19, 21, 22, 22, 23, 23, 24, 26, 29, 35]"
      ],
      "metadata": {
        "id": "noXviaFp2NQs"
      }
    },
    {
      "cell_type": "code",
      "source": [
        "import matplotlib.pyplot as plt\n",
        "\n",
        "data = [12, 14, 14, 15, 18, 19, 19, 21, 22, 22, 23, 23, 24, 26, 29, 35]\n",
        "\n",
        "# Create boxplot\n",
        "plt.boxplot(data, vert=False, patch_artist=True, boxprops=dict(facecolor=\"lightblue\"))\n",
        "plt.title(\"Boxplot of Data\")\n",
        "plt.xlabel(\"Values\")\n",
        "plt.show()"
      ],
      "metadata": {
        "colab": {
          "base_uri": "https://localhost:8080/",
          "height": 472
        },
        "id": "vVe94LL9v7XD",
        "outputId": "c9d1427d-6289-4d9d-b4c2-695ad06ad7fd"
      },
      "execution_count": 8,
      "outputs": [
        {
          "output_type": "display_data",
          "data": {
            "text/plain": [
              "<Figure size 640x480 with 1 Axes>"
            ],
            "image/png": "[encoded data removed]"
          },
          "metadata": {}
        }
      ]
    },
    {
      "cell_type": "markdown",
      "source": [
        "- Explanation of Boxplot-\n",
        "\n",
        "A boxplot shows the spread of data using:\n",
        "\n",
        "- Minimum (Q0) – Smallest value (excluding outliers)\n",
        "\n",
        "- First Quartile (Q1) – 25% of data below this\n",
        "\n",
        "- Median (Q2) – Middle value (50%)\n",
        "\n",
        "- Third Quartile (Q3) – 75% of data below this\n",
        "\n",
        "- Maximum (Q4) – Largest value (excluding outliers)\n",
        "\n",
        "- Outliers – Values beyond the \"whiskers\" (far from the main spread).\n",
        "\n",
        "--\n",
        "- Identifying Outliers\n",
        "\n",
        "Outliers are determined using the Interquartile Range (IQR):\n",
        "\n",
        "LQR = Q3 - Q1\n",
        "\n",
        "Lower Fence = Q1 - 1.5 * IQR\n",
        "\n",
        "Upper Fence = Q3 + 1.5 * IQR\n",
        "\n",
        "--\n",
        "\n",
        "- For given data:\n",
        "\n",
        "\n",
        "Q1 = 18.5\n",
        "\n",
        "Q2 (Median) = 21.5\n",
        "\n",
        "Q3 = 23.5\n",
        "\n",
        "IQR = 23.5 – 18.5 = 5\n",
        "\n",
        "Lower Fence = 18.5 – 7.5 = 11\n",
        "\n",
        "Upper Fence = 23.5 + 7.5 = 31\n",
        "\n",
        "Outliers = Values < 11 or > 31\n",
        "\n",
        "In this dataset, 35 is an outlier.\n",
        "\n",
        "--\n",
        "\n",
        "- Final Result\n",
        "\n",
        "The box covers values between Q1 (18.5) and Q3 (23.5).\n",
        "\n",
        "The median line is at 21.5.\n",
        "\n",
        "The whiskers extend roughly from 12 to 29.\n",
        "\n",
        "The value 35 is plotted separately as an outlier."
      ],
      "metadata": {
        "id": "GniKs5SmzVVR"
      }
    },
    {
      "cell_type": "markdown",
      "source": [
        "**Question 8:** You are working as a data analyst in an e-commerce company. The\n",
        "marketing team wants to know if there is a relationship between advertising spend and\n",
        "daily sales.\n",
        "\n",
        "-  Explain how you would use covariance and correlation to explore this\n",
        "relationship.\n",
        "\n",
        "- Write Python code to compute the correlation between the two lists:\n",
        "\n",
        "     advertising_spend = [200, 250, 300, 400, 500]\n",
        "\n",
        "     daily_sales = [2200, 2450, 2750, 3200, 4000]\n",
        "\n",
        "=>\n",
        "\n",
        "1. Covariance\n",
        "\n",
        "Tells us whether two variables move together.\n",
        "\n",
        "If positive → when advertising spend increases, sales also increase.\n",
        "\n",
        "If negative → when advertising spend increases, sales decrease.\n",
        "\n",
        "Limitation: The value is not standardized (depends on units), so it’s hard to judge strength.\n",
        "\n",
        "2. Correlation\n",
        "\n",
        "Standardized form of covariance (ranges from -1 to +1).\n",
        "\n",
        "+1 → perfect positive relationship.\n",
        "\n",
        "-1 → perfect negative relationship.\n",
        "\n",
        "0 → no relationship.\n",
        "\n",
        "Better for measuring the strength and direction of the relationship.\n"
      ],
      "metadata": {
        "id": "wSlz4Njg2FfL"
      }
    },
    {
      "cell_type": "code",
      "source": [
        "import numpy as np\n",
        "\n",
        "advertising_spend = [200, 250, 300, 400, 500]\n",
        "daily_sales = [2200, 2450, 2750, 3200, 4000]\n",
        "\n",
        "# Convert to numpy arrays\n",
        "x = np.array(advertising_spend)\n",
        "y = np.array(daily_sales)\n",
        "\n",
        "# Compute Covariance Matrix\n",
        "cov_matrix = np.cov(x, y, bias=True)\n",
        "covariance = cov_matrix[0, 1]\n",
        "\n",
        "# Compute Correlation Coefficient\n",
        "correlation = np.corrcoef(x, y)[0, 1]\n",
        "\n",
        "print(\"Covariance:\", covariance)\n",
        "print(\"Correlation Coefficient:\", correlation)"
      ],
      "metadata": {
        "colab": {
          "base_uri": "https://localhost:8080/"
        },
        "id": "yifdFcLq3YOK",
        "outputId": "7b681fd2-ccba-4b55-cad9-9fb4e09730c9"
      },
      "execution_count": 10,
      "outputs": [
        {
          "output_type": "stream",
          "name": "stdout",
          "text": [
            "Covariance: 67900.0\n",
            "Correlation Coefficient: 0.9935824101653329\n"
          ]
        }
      ]
    },
    {
      "cell_type": "markdown",
      "source": [
        "**Question 9:** Your team has collected customer satisfaction survey data on a scale of\n",
        "1-10 and wants to understand its distribution before launching a new product.\n",
        "\n",
        "- Explain which summary statistics and visualizations (e.g. mean, standard\n",
        "deviation, histogram) you’d use.\n",
        "\n",
        "- Write Python code to create a histogram using Matplotlib for the survey data:\n",
        "survey_scores = [7, 8, 5, 9, 6, 7, 8, 9, 10, 4, 7, 6, 9, 8, 7]\n",
        "\n",
        "\n",
        "=>\n",
        "\n",
        "1.  Statistics to Use\n",
        "\n",
        "To understand survey data distribution (scale 1–10), you’d look at:\n",
        "\n",
        "Mean → Average satisfaction score (overall customer sentiment).\n",
        "\n",
        "Median → Middle score (resistant to outliers).\n",
        "\n",
        "Mode → Most frequent score (common satisfaction level).\n",
        "\n",
        "Standard Deviation (SD) → Spread of scores (how consistent customers are).\n",
        "\n",
        "Minimum & Maximum → Range of satisfaction.\n",
        "\n",
        "2. Visualizations\n",
        "\n",
        "Histogram → Shows frequency of each score (shape of distribution).\n",
        "\n",
        "Boxplot → Highlights median, quartiles, and outliers.\n",
        "\n",
        "Bar Chart (optional) → If comparing satisfaction levels across different groups."
      ],
      "metadata": {
        "id": "4rXTGFZR3yCH"
      }
    },
    {
      "cell_type": "code",
      "source": [
        "import matplotlib.pyplot as plt\n",
        "\n",
        "survey_scores = [7, 8, 5, 9, 6, 7, 8, 9, 10, 4, 7, 6, 9, 8, 7]\n",
        "\n",
        "# Create histogram\n",
        "plt.hist(survey_scores, bins=6, color='skyblue', edgecolor='black')\n",
        "\n",
        "# Add labels and title\n",
        "plt.title(\"Customer Satisfaction Survey Distribution\")\n",
        "plt.xlabel(\"Satisfaction Score (1-10)\")\n",
        "plt.ylabel(\"Frequency\")\n",
        "\n",
        "plt.show()"
      ],
      "metadata": {
        "colab": {
          "base_uri": "https://localhost:8080/",
          "height": 472
        },
        "id": "veJy5ebp5Kmr",
        "outputId": "aff60c79-c9a3-4eb2-a8ce-9a37ed40ba04"
      },
      "execution_count": 12,
      "outputs": [
        {
          "output_type": "display_data",
          "data": {
            "text/plain": [
              "<Figure size 640x480 with 1 Axes>"
            ],
            "image/png": "[encoded data removed]"
          },
          "metadata": {}
        }
      ]
    }
  ]
}