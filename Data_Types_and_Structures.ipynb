{
  "nbformat": 4,
  "nbformat_minor": 0,
  "metadata": {
    "colab": {
      "provenance": []
    },
    "kernelspec": {
      "name": "python3",
      "display_name": "Python 3"
    },
    "language_info": {
      "name": "python"
    }
  },
  "cells": [
    {
      "cell_type": "markdown",
      "source": [
        "# Data Types and **Structures**"
      ],
      "metadata": {
        "id": "eeb2S3mXH7oa"
      }
    },
    {
      "cell_type": "markdown",
      "source": [
        "# THEORETICAL QUESTIONS"
      ],
      "metadata": {
        "id": "CIcrp3U-IY6b"
      }
    },
    {
      "cell_type": "markdown",
      "source": [
        "###1. What are data structures, and why are they important?\n",
        "\n",
        "=> Data structures are ways of organizing and storing data in a computer so that it can be accessed and modified efficiently. They are important because they allow us to manage large amounts of data in a systematic way, making programs faster and more efficient. Different data structures are suited for different tasks, and choosing the right one can significantly impact the performance of an algorithm.\n",
        "\n",
        "###2. Explain the difference between mutable and immutable data types with examples?\n",
        "\n",
        "=> Mutable data types can be changed after they are created. This means you can add, remove, or modify elements within the data structure without creating a new object. Examples include lists, sets, and dictionaries.\n",
        "\n",
        "Immutable data types, on the other hand, cannot be changed after they are created. If you need to modify an immutable object, you have to create a new object with the desired changes. Examples include strings, tuples, and numbers (integers, floats, etc.).\n",
        "\n",
        "###3. What are the main differences between lists and tuples in Python?\n",
        "\n",
        "=> the main differences between lists and tuples in Python:\n",
        "\n",
        "- Mutability: Lists are mutable, meaning you can change their elements after creation. Tuples are immutable, meaning you cannot change their elements after creation.\n",
        "- Syntax: Lists are defined using square brackets [], while tuples are defined using parentheses ().\n",
        "- Performance: Tuples are generally faster than lists because of their immutable nature.\n",
        "- Use Cases: Lists are typically used for collections of items where the order and content might change. Tuples are often used for collections of related items that should not change, such as coordinates or database records.\n",
        "\n",
        "###4. Describe how dictionaries store data?\n",
        "\n",
        "=> Dictionaries in Python store data as key-value pairs. Each key is unique and associated with a specific value. Dictionaries are unordered collections, meaning the items are not stored in a specific order. They are implemented using hash tables, which allow for efficient lookup, insertion, and deletion of key-value pairs. When you access a value using its key, the dictionary uses a hash function to quickly find the location of that value in memory.\n",
        "\n",
        "###5. Why might you use a set instead of a list in Python?\n",
        "\n",
        "=> You might use a set instead of a list in Python for a few key reasons:\n",
        "\n",
        "- Uniqueness: Sets automatically handle duplicate values. If you add duplicate elements to a set, only one instance will be stored. Lists, on the other hand, can contain multiple identical elements. This makes sets ideal for tasks like finding unique items in a collection.\n",
        "- Membership Testing: Checking if an element exists in a set is generally faster than checking if it exists in a list, especially for large collections. This is because sets are implemented using hash tables, which provide average O(1) time complexity for membership testing.\n",
        "- Mathematical Operations: Sets support mathematical set operations like union, intersection, difference, and symmetric difference, which are not directly available for lists.\n",
        "\n",
        "###6. What is a string in Python, and how is it different from a list?\n",
        "\n",
        "=> A string in Python is a sequence of characters. It is an immutable data type, meaning that once a string is created, its contents cannot be changed. Strings are used to represent text.\n",
        "\n",
        "The main differences between a string and a list in Python are:\n",
        "\n",
        "- Mutability: Strings are immutable, while lists are mutable. You cannot change individual characters within a string after it's created, but you can change, add, or remove elements in a list.\n",
        "- Data Type: Strings are specifically for sequences of characters (text), while lists can contain elements of any data type (numbers, strings, other lists, etc.).\n",
        "- Syntax: Strings are enclosed in quotes (single, double, or triple), while lists are enclosed in square brackets [].\n",
        "\n",
        "###7. How do tuples ensure data integrity in Python?\n",
        "\n",
        "=> Tuples ensure data integrity in Python primarily through their immutability. Since the elements of a tuple cannot be changed after the tuple is created, you can be confident that the data within a tuple will remain constant throughout the program's execution.\n",
        "\n",
        "This is particularly useful in situations where you have data that should not be accidentally modified, such as:\n",
        "\n",
        "- Configuration settings: Storing application settings in a tuple ensures they aren't changed during runtime.\n",
        "- Database records: Representing a database record as a tuple can prevent unintended modifications to the record's fields.\n",
        "- Coordinates: Using a tuple for geographical coordinates or points in a graph ensures their values remain fixed.\n",
        "- Function arguments and return values: Passing data as tuples to functions or returning tuples can guarantee the integrity of that data.\n",
        "\n",
        "###8. What is a hash table, and how does it relate to dictionaries in Python?\n",
        "\n",
        "=> A hash table (also known as a hash map) is a data structure that implements an associative array, which is a structure that maps keys to values. It uses a hash function to compute an index into an array of buckets or slots, from which the desired value can be found.\n",
        "\n",
        "Here's how it relates to dictionaries in Python:\n",
        "\n",
        "- Implementation: Python dictionaries are implemented using hash tables. When you create a dictionary, Python uses a hash function to calculate a hash value for each key. This hash value is then used to determine where to store the key-value pair in memory.\n",
        "- Efficient Lookups: The use of hash tables allows dictionaries to provide very fast average-case time complexity for operations like looking up a value by its key, inserting a new key-value pair, and deleting a key-value pair. This is because the hash function allows the dictionary to quickly jump to the likely location of the data.\n",
        "- Keys Must Be Hashable: Because dictionaries use hashing, the keys in a Python dictionary must be hashable. Hashable objects have a hash value that remains constant throughout their lifetime and can be compared to other objects for equality. Immutable data types like strings, numbers, and tuples are hashable. Mutable data types like lists and dictionaries are not hashable because their contents can change, which would change their hash value.\n",
        "\n",
        "###9. Can lists contain different data types in Python?\n",
        "\n",
        "=> Yes, absolutely! Lists in Python are very flexible and can contain elements of different data types within the same list.\n",
        "\n",
        "For example, you can have a list that contains integers, strings, floats, and even other lists or dictionaries:\n",
        "\n",
        "my_list = [1, \"hello\", 3.14, [5, 6], {\"name\": \"Alice\"}]\n",
        "\n",
        "print(my_list)\n",
        "\n",
        "###10. Explain why strings are immutable in Python?\n",
        "\n",
        "=> Strings are immutable in Python, which means once a string object is created, its contents cannot be changed. When you perform an operation that appears to modify a string (like concatenation or replacement), Python actually creates a new string object with the desired changes.\n",
        "\n",
        "There are several reasons for this design choice:\n",
        "\n",
        "- Efficiency of Hashing: Strings are frequently used as keys in dictionaries and elements in sets. For these data structures to work efficiently, their keys/elements must be hashable. Hashable objects are required to have a hash value that remains constant throughout their lifetime. If strings were mutable, their content could change, which would change their hash value, breaking the integrity of hash-based data structures.\n",
        "- Predictability and Thread Safety: Immutability makes strings inherently thread-safe. When multiple threads are accessing a string, you don't have to worry about one thread modifying the string while another is reading it, leading to unexpected behavior.\n",
        "- Performance Optimizations: Python can make certain performance optimizations knowing that strings won't change. For instance, multiple variables pointing to the same string value can share the same memory location. If strings were mutable, this would not be possible, as changing one variable would affect others.\n",
        "- Simplified Code: Immutability can make code easier to reason about, as you don't need to track potential side effects of functions modifying strings in place.\n",
        "\n",
        "###11. What advantages do dictionaries offer over lists for certain tasks?\n",
        "\n",
        "=> Dictionaries offer several advantages over lists for certain tasks, primarily due to their key-value structure and underlying hash table implementation:\n",
        "\n",
        "- Fast Lookups (by key): The most significant advantage is the speed of accessing elements. In a dictionary, you can retrieve a value directly by its key in nearly constant time (average O(1)). With a list, you typically need to iterate through the list to find an element by its value (average O(n)) or access it by its index (O(1)), but finding the index of a value can still be slow.\n",
        "- Associative Relationships: Dictionaries are ideal for representing data where there's a clear association between a key and a value, like a person's name and their age, or a word and its definition. Lists are better suited for ordered collections of items.\n",
        "- Meaningful Access: Accessing data by a descriptive key (like 'name' or 'price') is often more readable and understandable than accessing it by a numerical index (like my_list[0] or my_list[5]).\n",
        "Flexibility in Data Representation: Dictionaries can easily store complex data structures as values associated with simple keys, making them useful for representing structured data like JSON objects.\n",
        "\n",
        "However, lists are better when you need:\n",
        "\n",
        "-An ordered collection of items.\n",
        "\n",
        "-To access elements by their position (index).\n",
        "\n",
        "-To store multiple occurrences of the same value.\n",
        "\n",
        "###12. Describe a scenario where using a tuple would be preferable over a list?\n",
        "\n",
        "=> A scenario where using a tuple would be preferable over a list is when you have a collection of related items that should not be changed after they are created. Because tuples are immutable, they provide a guarantee that the data within them will remain constant.\n",
        "\n",
        "Here are a few specific examples:\n",
        "\n",
        "- Representing Coordinates: If you are storing geographical coordinates (latitude, longitude) or points in a 2D or 3D space, a tuple is a good choice. The individual coordinate values should not change once defined.\n",
        "\n",
        "For example: coordinates = (40.7128, -74.0060).\n",
        "- Database Records (Simple): For simple, fixed-structure database records where you want to ensure the fields aren't accidentally modified, a tuple can be suitable.\n",
        "\n",
        "For example: user_record = (\"Alice\", 30, \"New York\").\n",
        "- Function Return Values: When a function needs to return multiple values that represent a fixed set of related data, returning a tuple is common practice. This clearly indicates that the returned values are grouped together and shouldn't be individually modified.\n",
        "\n",
        "For example: def get_dimensions(): return (10, 5, 2).\n",
        "- Configuration Settings: Storing application configuration settings that should not be altered during runtime in a tuple provides a level of safety against accidental modification.\n",
        "\\\n",
        "For example: db_config = (\"localhost\", 5432, \"mydatabase\").\n",
        "\n",
        "###13. How do sets handle duplicate values in Python?\n",
        "\n",
        "=> Sets in Python are fundamentally defined as unordered collections of unique elements. This means that when you add elements to a set, any duplicate values are automatically discarded.\n",
        "\n",
        "Here's how it works:\n",
        "\n",
        "- Adding elements: When you try to add an element to a set, Python checks if that element is already present in the set. If it is, the element is not added again. If it's not present, it is added.\n",
        "- Creating sets from iterables: If you create a set from an iterable (like a list or a tuple) that contains duplicate values, the resulting set will only contain one instance of each unique element.\n",
        "\n",
        "my_list = [1, 2, 2, 3, 4, 4, 5]\n",
        "\n",
        "my_set = set(my_list)\n",
        "\n",
        "print(my_set)\n",
        "\n",
        "Output = {1, 2, 3, 4, 5}\n",
        "\n",
        "##14. How does the “in” keyword work differently for lists and dictionaries?\n",
        "\n",
        "=> The in keyword in Python is used to test for membership in a collection. While it serves the same general purpose (checking if an element exists), it works differently under the hood for lists and dictionaries due to their different internal structures.\n",
        "\n",
        "Here's the difference:\n",
        "\n",
        "- For Lists: When you use the in keyword with a list, Python typically performs a linear search. This means it iterates through the list from the beginning, comparing each element to the value you are searching for until a match is found or the end of the list is reached. In the worst-case scenario (the element is not in the list or is the last element), this takes time proportional to the length of the list (O(n)).\n",
        "\n",
        "my_list = [1, 2, 3, 4, 5]\n",
        "\n",
        "print(3 in my_list)  # True\n",
        "\n",
        "print(6 in my_list)  # False\n",
        "\n",
        "- For Dictionaries: When you use the in keyword with a dictionary, Python checks for the presence of a key, not a value. It uses the dictionary's underlying hash table implementation. When you check if a key is in a dictionary, Python calculates the hash of the key and uses it to quickly jump to a potential location in the hash table. This allows for very fast average-case membership testing (O(1)).\n",
        "\n",
        "my_dict = {'name': 'Alice', 'age': 30, 'city': 'New York'}\n",
        "\n",
        "print('age' in my_dict)  # True (checking for key 'age')\n",
        "\n",
        "print('Alice' in my_dict) # False (checking for value 'Alice')\n",
        "\n",
        "print('country' in my_dict) # False\n",
        "\n",
        "\n",
        "###15. Can you modify the elements of a tuple? Explain why or why not?\n",
        "\n",
        "=> No, you cannot directly modify the elements of a tuple in Python after it has been created. This is because tuples are immutable data types.\n",
        "\n",
        "- Immutability: The core characteristic of a tuple is that its contents are fixed once it's defined. When you create a tuple, Python allocates memory for those specific elements in that specific order, and that memory cannot be changed in place.\n",
        "- Creating New Tuples: If you need to make a change that would seem like modifying a tuple (like adding an element, removing an element, or changing a value), you actually have to create a new tuple with the desired modifications. The original tuple remains unchanged in memory.\n",
        "\n",
        "For example, if you try to assign a new value to an element in a tuple, you will get a TypeError:\n",
        "\n",
        "my_tuple = (1, 2, 3)\n",
        "\n",
        "\n",
        "###16. What is a nested dictionary, and give an example of its use case?\n",
        "\n",
        "=> A nested dictionary in Python is a dictionary where the value associated with a key is itself another dictionary. This allows you to create hierarchical data structures, representing relationships and organizing data in a more complex way than a simple, flat dictionary.\n",
        "\n",
        "Example Use Case:\n",
        "\n",
        "A common use case for nested dictionaries is to represent structured data, like a collection of records where each record has multiple attributes. For instance, you could use a nested dictionary to store information about multiple users:\n",
        "\n",
        "\n",
        "users = {\n",
        "\n",
        "    'user1': {\n",
        "        'name': 'Alice',\n",
        "        'age': 30,\n",
        "        'city': 'New York'\n",
        "    },\n",
        "    'user2': {\n",
        "        'name': 'Bob',\n",
        "        'age': 25,\n",
        "        'city': 'London'\n",
        "    },\n",
        "    'user3': {\n",
        "        'name': 'Charlie',\n",
        "        'age': 35,\n",
        "        'city': 'Paris'\n",
        "    }\n",
        "}\n",
        "\n",
        "In this example:\n",
        "\n",
        "The outer dictionary users has keys like 'user1', 'user2', and 'user3', which could represent user IDs or usernames.\n",
        "The values associated with these keys are themselves dictionaries, each containing information about a specific user ('name', 'age', 'city').\n",
        "\n",
        "This structure makes it easy to access and manage data for individual users. For example, to get Alice's city, you would use:\n",
        "\n",
        "print(users['user1']['city'])\n",
        "\n",
        "###17. Describe the time complexity of accessing elements in a dictionary?\n",
        "\n",
        "=> The time complexity of accessing elements in a dictionary in Python is, on average, O(1) (constant time).\n",
        "\n",
        "Here's why:\n",
        "\n",
        "Dictionaries are implemented using hash tables. When you access a value using its key, Python uses a hash function to calculate an index (or hash value) for that key. This hash value is then used to quickly locate the corresponding value in the underlying array (or buckets) of the hash table.\n",
        "\n",
        "This process is typically very fast and does not depend on the size of the dictionary. Whether the dictionary has 10 elements or 10,000 elements, accessing an element by its key takes roughly the same amount of time on average.\n",
        "\n",
        "- Worst-Case Scenario: In the worst-case scenario, if there are many hash collisions (different keys producing the same hash value), accessing an element could degrade to O(n) time complexity, where n is the number of elements in the dictionary. This happens when Python has to linearly search through a bucket containing multiple elements that hashed to the same index. However, Python's hash function and collision resolution strategies are designed to minimize the occurrence of this worst case in practice.\n",
        "- Accessing by Value: The O(1) complexity applies to accessing elements by their key. If you need to find a key based on its value, you would typically need to iterate through all the key-value pairs, which would have a time complexity of O(n).\n",
        "\n",
        "###18. In what situations are lists preferred over dictionaries?\n",
        "\n",
        "=> You would typically prefer to use a list over a dictionary in Python in situations where:\n",
        "\n",
        "1. Order Matters: Lists maintain the order in which elements are added. If the sequence or position of the data is important, a list is the appropriate choice. Dictionaries, being unordered collections (in versions prior to Python 3.7), do not guarantee the order of their elements.\n",
        "2. You Need to Access Elements by Index: Lists allow you to easily access elements using their numerical index (e.g., my_list[0]). If you need to retrieve data based on its position in the collection, a list is suitable. Dictionaries are accessed by keys, not numerical indices representing position.\n",
        "3. You Need to Store Duplicate Values: Lists can contain multiple identical elements. If your data naturally includes duplicates and you need to preserve them, a list is necessary. Sets and dictionaries (keys) do not allow duplicate values.\n",
        "4. You Need to Perform Operations on Sequences: Lists support various sequence operations like slicing, concatenation, and iterating through elements in a specific order. These operations are not directly applicable to dictionaries in the same way.\n",
        "5. The Data Doesn't Have a Natural Key-Value Relationship: If your data is simply a collection of items without a clear, unique identifier (key) for each item, a list is a simpler and more appropriate structure.\n",
        "\n",
        "###19. Why are dictionaries considered unordered, and how does that affect data retrieval?\n",
        "\n",
        "=> Dictionaries were traditionally considered unordered in Python versions prior to 3.7. This meant that the order in which items were inserted into the dictionary was not guaranteed to be the order in which they were stored or retrieved.\n",
        "\n",
        "The reason for this was their implementation using hash tables. Hash tables store data based on the hash value of the keys, which doesn't necessarily correspond to the insertion order. The primary goal of the hash table was to provide fast key lookups, not maintain order.\n",
        "\n",
        "How this affected data retrieval (in older Python versions):\n",
        "\n",
        "- Iteration Order: When you iterated through a dictionary (e.g., using a for loop), the order in which the key-value pairs were returned could be unpredictable and might change between different runs of the same program or even between different Python versions.\n",
        "- No Indexing: You could not access dictionary elements using numerical indices like you can with lists (e.g., my_dict[0]) because there was no guaranteed positional order.\n",
        "However, it's important to note the change in Python 3.7 and later:\n",
        "\n",
        "Starting with Python 3.7, dictionaries are insertion-ordered. This means that the order in which items are added to the dictionary is preserved. When you iterate through a dictionary in Python 3.7+, you will get the items back in the order they were inserted.\n",
        "\n",
        "In modern Python (3.7+):\n",
        "\n",
        "While dictionaries are now insertion-ordered, they are still primarily designed for fast key-based lookups (O(1) on average). You still cannot access elements by numerical index. The insertion order is maintained, but the primary way to retrieve data is still by using the key.\n",
        "\n",
        "So, while the \"unordered\" description is historically accurate for dictionaries, in current Python versions, they are insertion-ordered. However, the fundamental way of retrieving data remains through key access, which is the core advantage of dictionaries over lists for tasks requiring fast lookups.\n",
        "\n",
        "###20. Explain the difference between a list and a dictionary in terms of data retrieval?\n",
        "\n",
        "=> The key difference in how you retrieve data from a list versus a dictionary lies in how the elements are accessed:\n",
        "\n",
        "1. Lists: Data Retrieval by Index\n",
        "- Lists are ordered collections, meaning elements have a specific position or index starting from 0.\n",
        "- You retrieve data from a list by its numerical index. For example, my_list[0] gets the first element, my_list[1] gets the second, and so on.\n",
        "- Accessing an element by its index in a list is generally fast (O(1) time complexity on average).\n",
        "- If you need to find an element by its value in a list, you typically have to search through the list (linear search), which can be slower (O(n) time complexity on average).\n",
        "\n",
        "my_list = ['apple', 'banana', 'cherry']\n",
        "\n",
        "first_item = my_list[0] # Retrieve by index\n",
        "\n",
        "2. Dictionaries: Data Retrieval by Key\n",
        "\n",
        "- Dictionaries are collections of key-value pairs. Each value is associated with a unique key.\n",
        "- You retrieve data from a dictionary by its key. For example, my_dict['name'] gets the value associated with the key 'name'.\n",
        "- Accessing a value by its key in a dictionary is very fast (O(1) time complexity on average) due to the underlying hash table implementation.\n",
        "- You cannot access dictionary elements using numerical indices representing their position (although in Python 3.7+ they maintain insertion order, you still use keys for access).\n",
        "\n",
        "my_dict = {'name': 'Alice', 'age': 30}\n",
        "\n",
        "name = my_dict['name'] # Retrieve by key\n"
      ],
      "metadata": {
        "id": "5AvW3Py6IhPm"
      }
    },
    {
      "cell_type": "markdown",
      "source": [
        "# PRACTICAL QUESTIONS"
      ],
      "metadata": {
        "id": "LQK5wYnXKI7L"
      }
    },
    {
      "cell_type": "code",
      "metadata": {
        "colab": {
          "base_uri": "https://localhost:8080/"
        },
        "id": "c1780c8b",
        "outputId": "c0e2687e-ad97-4b29-96cf-e388f3df6085"
      },
      "source": [
        "#1 Write a code to create a string with your name and print it.\n",
        "\n",
        "my_name = \"Krusha Patel\"\n",
        "print(my_name)"
      ],
      "execution_count": 1,
      "outputs": [
        {
          "output_type": "stream",
          "name": "stdout",
          "text": [
            "Krusha Patel\n"
          ]
        }
      ]
    },
    {
      "cell_type": "code",
      "source": [
        "#2 Write a code to find the length of the string \"Hello World\"\n",
        "\n",
        "my_string = \"Hello World\"\n",
        "length = len(my_string)\n",
        "print(length)"
      ],
      "metadata": {
        "colab": {
          "base_uri": "https://localhost:8080/"
        },
        "id": "RU8RMLbFrAoa",
        "outputId": "842e05a4-574c-44c7-e723-dd75d3a54034"
      },
      "execution_count": 2,
      "outputs": [
        {
          "output_type": "stream",
          "name": "stdout",
          "text": [
            "11\n"
          ]
        }
      ]
    },
    {
      "cell_type": "code",
      "source": [
        "#3 Write a code to slice the first 3 characters from the string \"Python Programming\"\n",
        "\n",
        "my_string = \"Python Programming\"\n",
        "sliced_string = my_string[:3]\n",
        "print(sliced_string)"
      ],
      "metadata": {
        "colab": {
          "base_uri": "https://localhost:8080/"
        },
        "id": "z-PXrrPBrF-x",
        "outputId": "9c5cfd59-caa9-47ca-fe72-0ad95559b567"
      },
      "execution_count": 3,
      "outputs": [
        {
          "output_type": "stream",
          "name": "stdout",
          "text": [
            "Pyt\n"
          ]
        }
      ]
    },
    {
      "cell_type": "code",
      "metadata": {
        "colab": {
          "base_uri": "https://localhost:8080/"
        },
        "id": "c080ce13",
        "outputId": "e2c8218e-4b90-4beb-d89f-d28e0f8b64d0"
      },
      "source": [
        "#4 Write a code to convert the string \"hello\" to uppercase\n",
        "my_string = \"hello\"\n",
        "uppercase_string = my_string.upper()\n",
        "print(uppercase_string)"
      ],
      "execution_count": 4,
      "outputs": [
        {
          "output_type": "stream",
          "name": "stdout",
          "text": [
            "HELLO\n"
          ]
        }
      ]
    },
    {
      "cell_type": "code",
      "source": [
        "#5 Write a code to replace the word \"apple\" with \"orange\" in the string \"I like apple\"\n",
        "\n",
        "my_string = \"I like apple\"\n",
        "new_string = my_string.replace(\"apple\", \"orange\")\n",
        "print(new_string)"
      ],
      "metadata": {
        "colab": {
          "base_uri": "https://localhost:8080/"
        },
        "id": "132xDCrQraTj",
        "outputId": "adb99eb1-7982-47b6-ea85-49cda286de76"
      },
      "execution_count": 5,
      "outputs": [
        {
          "output_type": "stream",
          "name": "stdout",
          "text": [
            "I like orange\n"
          ]
        }
      ]
    },
    {
      "cell_type": "code",
      "source": [
        "#6 Write a code to create a list with numbers 1 to 5 and print it\n",
        "\n",
        "my_list = [1, 2, 3, 4, 5]\n",
        "print(my_list)"
      ],
      "metadata": {
        "colab": {
          "base_uri": "https://localhost:8080/"
        },
        "id": "jnFOIPlXreyy",
        "outputId": "07f1a779-faed-4e45-b0fb-d7d59a20c78e"
      },
      "execution_count": 6,
      "outputs": [
        {
          "output_type": "stream",
          "name": "stdout",
          "text": [
            "[1, 2, 3, 4, 5]\n"
          ]
        }
      ]
    },
    {
      "cell_type": "code",
      "source": [
        "#7 Write a code to append the number 10 to the list [1, 2, 3, 4]\n",
        "\n",
        "my_list = [1, 2, 3, 4]\n",
        "my_list.append(10)\n",
        "print(my_list)"
      ],
      "metadata": {
        "colab": {
          "base_uri": "https://localhost:8080/"
        },
        "id": "03_J3k8nrj5y",
        "outputId": "d4e42931-71d9-40ff-da6e-689b11ece645"
      },
      "execution_count": 7,
      "outputs": [
        {
          "output_type": "stream",
          "name": "stdout",
          "text": [
            "[1, 2, 3, 4, 10]\n"
          ]
        }
      ]
    },
    {
      "cell_type": "code",
      "source": [
        "#8 Write a code to remove the number 3 from the list [1, 2, 3, 4, 5]\n",
        "\n",
        "my_list = [1, 2, 3, 4, 5]\n",
        "my_list.remove(3)\n",
        "print(my_list)"
      ],
      "metadata": {
        "colab": {
          "base_uri": "https://localhost:8080/"
        },
        "id": "dMkYNBQ0rqDe",
        "outputId": "4b0cb170-05ce-4446-d70a-b10edabff431"
      },
      "execution_count": 8,
      "outputs": [
        {
          "output_type": "stream",
          "name": "stdout",
          "text": [
            "[1, 2, 4, 5]\n"
          ]
        }
      ]
    },
    {
      "cell_type": "code",
      "source": [
        "#9 Write a code to access the second element in the list ['a', 'b', 'c', 'd']\n",
        "\n",
        "my_list = ['a', 'b', 'c', 'd']\n",
        "second_element = my_list[1]\n",
        "print(second_element)"
      ],
      "metadata": {
        "colab": {
          "base_uri": "https://localhost:8080/"
        },
        "id": "_AilPYqyruhe",
        "outputId": "2019ac0e-2e91-4fd2-ed23-9144c97e426e"
      },
      "execution_count": 9,
      "outputs": [
        {
          "output_type": "stream",
          "name": "stdout",
          "text": [
            "b\n"
          ]
        }
      ]
    },
    {
      "cell_type": "code",
      "source": [
        "#10 Write a code to reverse the list [10, 20, 30, 40, 50].\n",
        "\n",
        "my_list = [10, 20, 30, 40, 50]\n",
        "my_list.reverse()\n",
        "print(my_list)"
      ],
      "metadata": {
        "colab": {
          "base_uri": "https://localhost:8080/"
        },
        "id": "sabDFquFr1Z5",
        "outputId": "f3e66172-8c58-4656-d023-6b3758081fd2"
      },
      "execution_count": 10,
      "outputs": [
        {
          "output_type": "stream",
          "name": "stdout",
          "text": [
            "[50, 40, 30, 20, 10]\n"
          ]
        }
      ]
    },
    {
      "cell_type": "code",
      "source": [
        "#11. Write a code to create a tuple with the elements 100, 200, 300 and print it.\n",
        "\n",
        "my_tuple = (100, 200, 300)\n",
        "print(my_tuple)"
      ],
      "metadata": {
        "colab": {
          "base_uri": "https://localhost:8080/"
        },
        "id": "OEsYJvjRr60A",
        "outputId": "7c492ad5-dc1d-41b1-bd0d-45bfba42792b"
      },
      "execution_count": 11,
      "outputs": [
        {
          "output_type": "stream",
          "name": "stdout",
          "text": [
            "(100, 200, 300)\n"
          ]
        }
      ]
    },
    {
      "cell_type": "code",
      "source": [
        "#12. Write a code to access the second-to-last element of the tuple ('red', 'green', 'blue', 'yellow').\n",
        "\n",
        "my_tuple = ('red', 'green', 'blue', 'yellow')\n",
        "second_to_last_element = my_tuple[-2]\n",
        "print(second_to_last_element)"
      ],
      "metadata": {
        "colab": {
          "base_uri": "https://localhost:8080/"
        },
        "id": "CygTwpF8r_58",
        "outputId": "67843abb-abde-4897-e1d5-b2e7ad0ddda9"
      },
      "execution_count": 12,
      "outputs": [
        {
          "output_type": "stream",
          "name": "stdout",
          "text": [
            "blue\n"
          ]
        }
      ]
    },
    {
      "cell_type": "code",
      "source": [
        "#13. Write a code to find the minimum number in the tuple (10, 20, 5, 15).\n",
        "\n",
        "my_tuple = (10, 20, 5, 15)\n",
        "minimum_number = min(my_tuple)\n",
        "print(minimum_number)"
      ],
      "metadata": {
        "colab": {
          "base_uri": "https://localhost:8080/"
        },
        "id": "p6ZsglR7sEkx",
        "outputId": "256f43af-7857-4f5c-83ee-b08f3c0b79f4"
      },
      "execution_count": 13,
      "outputs": [
        {
          "output_type": "stream",
          "name": "stdout",
          "text": [
            "5\n"
          ]
        }
      ]
    },
    {
      "cell_type": "code",
      "source": [
        "#14. Write a code to find the index of the element \"cat\" in the tuple ('dog', 'cat', 'rabbit').\n",
        "\n",
        "my_tuple = ('dog', 'cat', 'rabbit')\n",
        "index_of_cat = my_tuple.index('cat')\n",
        "print(index_of_cat)"
      ],
      "metadata": {
        "colab": {
          "base_uri": "https://localhost:8080/"
        },
        "id": "0cY64I1WsIOh",
        "outputId": "4cadb2d6-882b-4663-facd-d5dbbdf26259"
      },
      "execution_count": 14,
      "outputs": [
        {
          "output_type": "stream",
          "name": "stdout",
          "text": [
            "1\n"
          ]
        }
      ]
    },
    {
      "cell_type": "code",
      "source": [
        "#15. Write a code to create a tuple containing three different fruits and check if \"kiwi\" is in it.\n",
        "\n",
        "fruits_tuple = ('apple', 'banana', 'cherry')\n",
        "is_kiwi_in_tuple = 'kiwi' in fruits_tuple\n",
        "print(is_kiwi_in_tuple)"
      ],
      "metadata": {
        "colab": {
          "base_uri": "https://localhost:8080/"
        },
        "id": "qySMBCGdsL89",
        "outputId": "ac5c9e6d-fd40-4364-cd3d-b45e76c63cad"
      },
      "execution_count": 15,
      "outputs": [
        {
          "output_type": "stream",
          "name": "stdout",
          "text": [
            "False\n"
          ]
        }
      ]
    },
    {
      "cell_type": "code",
      "source": [
        "#16. Write a code to create a set with the elements 'a', 'b', 'c' and print it.\n",
        "\n",
        "my_set = {'a', 'b', 'c'}\n",
        "print(my_set)"
      ],
      "metadata": {
        "colab": {
          "base_uri": "https://localhost:8080/"
        },
        "id": "cYYkqCREsQ9H",
        "outputId": "b21f06a5-f2ce-434a-f5d7-c470019e3582"
      },
      "execution_count": 16,
      "outputs": [
        {
          "output_type": "stream",
          "name": "stdout",
          "text": [
            "{'b', 'c', 'a'}\n"
          ]
        }
      ]
    },
    {
      "cell_type": "code",
      "source": [
        "#17. Write a code to clear all elements from the set {1, 2, 3, 4, 5}.\n",
        "\n",
        "my_set = {1, 2, 3, 4, 5}\n",
        "my_set.clear()\n",
        "print(my_set)"
      ],
      "metadata": {
        "colab": {
          "base_uri": "https://localhost:8080/"
        },
        "id": "I1P727S6sUkd",
        "outputId": "d65ddba9-2890-4b3c-fba3-c3bc27ce7b91"
      },
      "execution_count": 17,
      "outputs": [
        {
          "output_type": "stream",
          "name": "stdout",
          "text": [
            "set()\n"
          ]
        }
      ]
    },
    {
      "cell_type": "code",
      "source": [
        "#18. Write a code to remove the element 4 from the set {1, 2, 3, 4}.\n",
        "\n",
        "my_set = {1, 2, 3, 4}\n",
        "my_set.remove(4)\n",
        "print(my_set)"
      ],
      "metadata": {
        "colab": {
          "base_uri": "https://localhost:8080/"
        },
        "id": "ScKcf7ztsYrv",
        "outputId": "4e933ec3-cb7b-4a88-d637-26a926841e67"
      },
      "execution_count": 18,
      "outputs": [
        {
          "output_type": "stream",
          "name": "stdout",
          "text": [
            "{1, 2, 3}\n"
          ]
        }
      ]
    },
    {
      "cell_type": "code",
      "source": [
        "#19. Write a code to find the union of two sets {1, 2, 3} and {3, 4, 5}.\n",
        "\n",
        "set1 = {1, 2, 3}\n",
        "set2 = {3, 4, 5}\n",
        "union_set = set1.union(set2)\n",
        "print(union_set)"
      ],
      "metadata": {
        "colab": {
          "base_uri": "https://localhost:8080/"
        },
        "id": "dwmJzKpbsctr",
        "outputId": "16e1928d-f5cb-4340-81ad-f2446eaf1216"
      },
      "execution_count": 19,
      "outputs": [
        {
          "output_type": "stream",
          "name": "stdout",
          "text": [
            "{1, 2, 3, 4, 5}\n"
          ]
        }
      ]
    },
    {
      "cell_type": "code",
      "source": [
        "#20. Write a code to find the intersection of two sets {1, 2, 3} and {2, 3, 4}.\n",
        "\n",
        "set1 = {1, 2, 3}\n",
        "set2 = {2, 3, 4}\n",
        "intersection_set = set1.intersection(set2)\n",
        "print(intersection_set)"
      ],
      "metadata": {
        "colab": {
          "base_uri": "https://localhost:8080/"
        },
        "id": "pfOfm_3isgh_",
        "outputId": "91ebedf5-bc3d-4efa-bc25-998e1f66d4a6"
      },
      "execution_count": 20,
      "outputs": [
        {
          "output_type": "stream",
          "name": "stdout",
          "text": [
            "{2, 3}\n"
          ]
        }
      ]
    },
    {
      "cell_type": "code",
      "source": [
        "#21. Write a code to create a dictionary with the keys \"name\", \"age\", and \"city\", and print it.\n",
        "\n",
        "my_dict = {\n",
        "    \"name\": \"Alice\",\n",
        "    \"age\": 30,\n",
        "    \"city\": \"New York\"\n",
        "}\n",
        "print(my_dict)"
      ],
      "metadata": {
        "colab": {
          "base_uri": "https://localhost:8080/"
        },
        "id": "_zXhpYMosmyp",
        "outputId": "65b01e3d-258c-428c-f8c2-15df6e2e7f00"
      },
      "execution_count": 21,
      "outputs": [
        {
          "output_type": "stream",
          "name": "stdout",
          "text": [
            "{'name': 'Alice', 'age': 30, 'city': 'New York'}\n"
          ]
        }
      ]
    },
    {
      "cell_type": "code",
      "source": [
        "#22. Write a code to add a new key-value pair \"country\": \"USA\" to the dictionary {'name': 'John', 'age': 25}.\n",
        "\n",
        "my_dict = {'name': 'John', 'age': 25}\n",
        "my_dict['country'] = 'USA'\n",
        "print(my_dict)"
      ],
      "metadata": {
        "colab": {
          "base_uri": "https://localhost:8080/"
        },
        "id": "o0IKlK4gsq-Z",
        "outputId": "ed3c2082-f610-44bb-cf5e-ae8d0f6761cc"
      },
      "execution_count": 22,
      "outputs": [
        {
          "output_type": "stream",
          "name": "stdout",
          "text": [
            "{'name': 'John', 'age': 25, 'country': 'USA'}\n"
          ]
        }
      ]
    },
    {
      "cell_type": "code",
      "source": [
        "#23. Write a code to access the value associated with the key \"name\" in the dictionary {'name': 'Alice', 'age': 30}.\n",
        "\n",
        "my_dict = {'name': 'Alice', 'age': 30}\n",
        "print(my_dict['name'])"
      ],
      "metadata": {
        "colab": {
          "base_uri": "https://localhost:8080/"
        },
        "id": "3ekeAzp9syeV",
        "outputId": "8de7e792-1e00-4020-a034-f7030c6e9003"
      },
      "execution_count": 23,
      "outputs": [
        {
          "output_type": "stream",
          "name": "stdout",
          "text": [
            "Alice\n"
          ]
        }
      ]
    },
    {
      "cell_type": "code",
      "source": [
        "#24. Write a code to remove the key \"age\" from the dictionary {'name': 'Bob', 'age': 22, 'city': 'New York'}.\n",
        "\n",
        "my_dict = {'name': 'Bob', 'age': 22, 'city': 'New York'}\n",
        "del my_dict['age']\n",
        "print(my_dict)"
      ],
      "metadata": {
        "colab": {
          "base_uri": "https://localhost:8080/"
        },
        "id": "yjnNhlXrs6QB",
        "outputId": "c6088917-6ebd-44a5-d974-cbcacf391006"
      },
      "execution_count": 24,
      "outputs": [
        {
          "output_type": "stream",
          "name": "stdout",
          "text": [
            "{'name': 'Bob', 'city': 'New York'}\n"
          ]
        }
      ]
    },
    {
      "cell_type": "code",
      "source": [
        "#25. Write a code to check if the key \"city\" exists in the dictionary {'name': 'Alice', 'city': 'Paris'}.\n",
        "\n",
        "my_dict = {'name': 'Alice', 'city': 'Paris'}\n",
        "print('city' in my_dict)\n"
      ],
      "metadata": {
        "colab": {
          "base_uri": "https://localhost:8080/"
        },
        "id": "PBOoE2v0tMwr",
        "outputId": "66ac046a-9332-4136-ed8e-30c512c0ae59"
      },
      "execution_count": 26,
      "outputs": [
        {
          "output_type": "stream",
          "name": "stdout",
          "text": [
            "True\n"
          ]
        }
      ]
    },
    {
      "cell_type": "code",
      "source": [
        "#26. Write a code to create a list, a tuple, and a dictionary, and print them all.\n",
        "\n",
        "my_list = [1, 2, 3]\n",
        "my_tuple = (4, 5, 6)\n",
        "my_dict = {'a': 1, 'b': 2, 'c': 3}"
      ],
      "metadata": {
        "id": "-JXX4f7KtYSv"
      },
      "execution_count": 27,
      "outputs": []
    },
    {
      "cell_type": "code",
      "source": [
        "#27. Write a code to create a list of 5 random numbers between 1 and 100, sort it in ascending order, and print the result.(replaced)\n",
        "\n",
        "import random\n",
        "random_numbers = [random.randint(1, 100) for _ in range(5)]\n",
        "random_numbers.sort()\n",
        "print(random_numbers)"
      ],
      "metadata": {
        "colab": {
          "base_uri": "https://localhost:8080/"
        },
        "id": "BNCeoikct1AM",
        "outputId": "dd68101e-0f73-411a-e1e1-4160c5761769"
      },
      "execution_count": 38,
      "outputs": [
        {
          "output_type": "stream",
          "name": "stdout",
          "text": [
            "[19, 81, 86, 94, 95]\n"
          ]
        }
      ]
    },
    {
      "cell_type": "code",
      "source": [
        "#28. Write a code to create a list with strings and print the element at the third index.\n",
        "\n",
        "my_list = ['apple', 'banana', 'cherry', 'date', 'elderberry']\n",
        "print(my_list[3])"
      ],
      "metadata": {
        "colab": {
          "base_uri": "https://localhost:8080/"
        },
        "id": "09o92MFSt6zu",
        "outputId": "b4773dc7-8a6d-401d-971c-7b3f0a567e30"
      },
      "execution_count": 39,
      "outputs": [
        {
          "output_type": "stream",
          "name": "stdout",
          "text": [
            "date\n"
          ]
        }
      ]
    },
    {
      "cell_type": "code",
      "source": [
        "#29. Write a code to combine two dictionaries into one and print the result.\n",
        "\n",
        "dict1 = {'a': 1, 'b': 2}\n",
        "dict2 = {'c': 3, 'd': 4}\n",
        "combined_dict = {**dict1, **dict2}\n",
        "print(combined_dict)"
      ],
      "metadata": {
        "colab": {
          "base_uri": "https://localhost:8080/"
        },
        "id": "U1ExRbFMt_bl",
        "outputId": "93211722-b34b-4108-c252-f7feb74aad9d"
      },
      "execution_count": 40,
      "outputs": [
        {
          "output_type": "stream",
          "name": "stdout",
          "text": [
            "{'a': 1, 'b': 2, 'c': 3, 'd': 4}\n"
          ]
        }
      ]
    },
    {
      "cell_type": "code",
      "source": [
        "#30. Write a code to convert a list of strings into a set\n",
        "\n",
        "my_list = ['apple', 'banana', 'cherry', 'apple', 'banana']\n",
        "my_set = set(my_list)\n",
        "print(my_set)"
      ],
      "metadata": {
        "colab": {
          "base_uri": "https://localhost:8080/"
        },
        "id": "4NtS1LPouJT_",
        "outputId": "49564f25-fd35-4f91-c1f6-18e51ea8781a"
      },
      "execution_count": 42,
      "outputs": [
        {
          "output_type": "stream",
          "name": "stdout",
          "text": [
            "{'banana', 'apple', 'cherry'}\n"
          ]
        }
      ]
    }
  ]
}