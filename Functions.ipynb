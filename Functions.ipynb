{
  "nbformat": 4,
  "nbformat_minor": 0,
  "metadata": {
    "colab": {
      "provenance": []
    },
    "kernelspec": {
      "name": "python3",
      "display_name": "Python 3"
    },
    "language_info": {
      "name": "python"
    }
  },
  "cells": [
    {
      "cell_type": "markdown",
      "source": [
        "# Theoretical Questions"
      ],
      "metadata": {
        "id": "a70DAb3QUEbd"
      }
    },
    {
      "cell_type": "markdown",
      "source": [
        "1. What is the difference between a function and a method in Python?\n",
        "\n",
        "- Function:\n",
        "\n",
        "  A function is defined using def and is not associated with an object or class.\n",
        "  It's called on its own, not tied to any data type or object.\n",
        "  \n",
        "  Example -\n",
        "            def greet(name):\n",
        "                return f\"Hello, {name}!\"\n",
        "            \n",
        "            print(greet(\"Alice\"))\n",
        "\n",
        " Output -  Hello, Alice!\n",
        "\n",
        "- Method:\n",
        "\n",
        " A method is a function that is associated with an object (usually defined inside a class).\n",
        "\n",
        " It is called using the dot (.) operator on an object, and typically operates on the data in that object.\n",
        "\n",
        " Example -\n",
        "          class Person:\n",
        "              def greet(self):\n",
        "                  return \"Hello!\"\n",
        "          p = Person()\n",
        "          print(p.greet())  # greet is a method\n",
        "\n",
        "  Output - Hello!        \n",
        "2. Explain the concept of function arguments and parameters in Python.\n",
        "\n",
        "- Parameters:\n",
        "\n",
        " These are the variable names listed inside the parentheses in a function definition.\n",
        "\n",
        " They act as placeholders for the values the function will receive.\n",
        "\n",
        " Example -\n",
        "\n",
        "    \n",
        "    def greet(name):  # ← 'name' is a parameter\n",
        "    print(f\"Hello, {name}!\")\n",
        "\n",
        "\n",
        "- Arguments:\n",
        "\n",
        " These are the actual values you pass to the function when calling it.\n",
        "\n",
        " Example -\n",
        "\n",
        "    \n",
        "    greet(\"Alice\")  # ← \"Alice\" is an argument\n",
        "\n",
        " Output - Hello, Alice!\n",
        "3. What are the different ways to define and call a function in Python?\n",
        "\n"
      ],
      "metadata": {
        "id": "XFJtT49RULqY"
      }
    },
    {
      "cell_type": "markdown",
      "metadata": {
        "id": "aeed615b"
      },
      "source": [
        "### Defining Functions\n",
        "\n",
        "The most common way to define a function is using the `def` keyword."
      ]
    },
    {
      "cell_type": "code",
      "metadata": {
        "id": "f80bc3bf"
      },
      "source": [
        "# Defining a simple function\n",
        "def my_function(parameter1, parameter2):\n",
        "  \"\"\"This is a docstring explaining what the function does.\"\"\"\n",
        "  # Function body\n",
        "  result = parameter1 + parameter2\n",
        "  return result"
      ],
      "execution_count": null,
      "outputs": []
    },
    {
      "cell_type": "markdown",
      "metadata": {
        "id": "39c9b542"
      },
      "source": [
        "You can also define anonymous functions using the `lambda` keyword. These are typically used for short, simple operations."
      ]
    },
    {
      "cell_type": "code",
      "metadata": {
        "id": "a0bbea3b"
      },
      "source": [
        "# Defining a lambda function\n",
        "multiply = lambda x, y: x * y"
      ],
      "execution_count": null,
      "outputs": []
    },
    {
      "cell_type": "markdown",
      "metadata": {
        "id": "7adbbd25"
      },
      "source": [
        "### Calling Functions\n",
        "\n",
        "Functions can be called in several ways depending on how they were defined and the types of arguments they expect.\n",
        "\n",
        "**1. Positional Arguments:** Arguments are passed in the order the parameters are defined."
      ]
    },
    {
      "cell_type": "code",
      "metadata": {
        "colab": {
          "base_uri": "https://localhost:8080/"
        },
        "id": "42e30e3d",
        "outputId": "e533ffb4-76cd-4393-f95b-866d14b199a3"
      },
      "source": [
        "# Calling my_function with positional arguments\n",
        "output1 = my_function(5, 3)\n",
        "print(f\"Result using positional arguments: {output1}\")"
      ],
      "execution_count": null,
      "outputs": [
        {
          "output_type": "stream",
          "name": "stdout",
          "text": [
            "Result using positional arguments: 8\n"
          ]
        }
      ]
    },
    {
      "cell_type": "markdown",
      "metadata": {
        "id": "1d1c9e98"
      },
      "source": [
        "**2. Keyword Arguments:** Arguments are passed using the parameter name followed by the value. This allows you to pass arguments in any order."
      ]
    },
    {
      "cell_type": "code",
      "metadata": {
        "colab": {
          "base_uri": "https://localhost:8080/"
        },
        "id": "ba221801",
        "outputId": "8ca60e1e-c3b3-4aca-e670-464841996c01"
      },
      "source": [
        "# Calling my_function with keyword arguments\n",
        "output2 = my_function(parameter2=3, parameter1=5)\n",
        "print(f\"Result using keyword arguments: {output2}\")"
      ],
      "execution_count": null,
      "outputs": [
        {
          "output_type": "stream",
          "name": "stdout",
          "text": [
            "Result using keyword arguments: 8\n"
          ]
        }
      ]
    },
    {
      "cell_type": "markdown",
      "metadata": {
        "id": "f397d464"
      },
      "source": [
        "**3. Default Arguments:** You can provide default values for parameters in the function definition. If an argument is not provided for a parameter with a default value, the default value is used."
      ]
    },
    {
      "cell_type": "code",
      "metadata": {
        "colab": {
          "base_uri": "https://localhost:8080/"
        },
        "id": "04358de7",
        "outputId": "a2402bcb-28ef-425f-f352-3cd1b11e7aa5"
      },
      "source": [
        "# Defining a function with a default argument\n",
        "def greet(name, greeting=\"Hello\"):\n",
        "  return f\"{greeting}, {name}!\"\n",
        "\n",
        "# Calling greet with and without the default argument\n",
        "print(greet(\"Alice\"))\n",
        "print(greet(\"Bob\", \"Hi\"))"
      ],
      "execution_count": null,
      "outputs": [
        {
          "output_type": "stream",
          "name": "stdout",
          "text": [
            "Hello, Alice!\n",
            "Hi, Bob!\n"
          ]
        }
      ]
    },
    {
      "cell_type": "markdown",
      "metadata": {
        "id": "1d61c1d5"
      },
      "source": [
        "**4. Arbitrary Positional Arguments (`*args`):** If you don't know how many positional arguments a function will receive, you can use `*args`. This collects all extra positional arguments into a tuple."
      ]
    },
    {
      "cell_type": "code",
      "metadata": {
        "colab": {
          "base_uri": "https://localhost:8080/"
        },
        "id": "0af3153b",
        "outputId": "7fb5c57e-8af1-44c8-c72e-8b4a78142904"
      },
      "source": [
        "# Defining a function that accepts arbitrary positional arguments\n",
        "def sum_all(*args):\n",
        "  return sum(args)\n",
        "\n",
        "# Calling sum_all with different numbers of arguments\n",
        "print(sum_all(1, 2, 3))\n",
        "print(sum_all(1, 2, 3, 4, 5))"
      ],
      "execution_count": null,
      "outputs": [
        {
          "output_type": "stream",
          "name": "stdout",
          "text": [
            "6\n",
            "15\n"
          ]
        }
      ]
    },
    {
      "cell_type": "markdown",
      "metadata": {
        "id": "23d9d04f"
      },
      "source": [
        "**5. Arbitrary Keyword Arguments (`**kwargs`):** If you don't know how many keyword arguments a function will receive, you can use `**kwargs`. This collects all extra keyword arguments into a dictionary."
      ]
    },
    {
      "cell_type": "code",
      "metadata": {
        "colab": {
          "base_uri": "https://localhost:8080/"
        },
        "id": "813dd3b6",
        "outputId": "e17c485a-8c42-4c04-8a12-69399b844841"
      },
      "source": [
        "# Defining a function that accepts arbitrary keyword arguments\n",
        "def display_info(**kwargs):\n",
        "  for key, value in kwargs.items():\n",
        "    print(f\"{key}: {value}\")\n",
        "\n",
        "# Calling display_info with different keyword arguments\n",
        "display_info(name=\"Alice\", age=30, city=\"New York\")"
      ],
      "execution_count": null,
      "outputs": [
        {
          "output_type": "stream",
          "name": "stdout",
          "text": [
            "name: Alice\n",
            "age: 30\n",
            "city: New York\n"
          ]
        }
      ]
    },
    {
      "cell_type": "markdown",
      "metadata": {
        "id": "673df6b0"
      },
      "source": [
        "**6. Calling Lambda Functions:** Lambda functions are called like regular functions."
      ]
    },
    {
      "cell_type": "code",
      "metadata": {
        "colab": {
          "base_uri": "https://localhost:8080/"
        },
        "id": "929a8ee0",
        "outputId": "2581788e-79f8-4723-f85f-5c7e9b7c7600"
      },
      "source": [
        "# Calling the lambda function\n",
        "output3 = multiply(4, 6)\n",
        "print(f\"Result using lambda function: {output3}\")"
      ],
      "execution_count": null,
      "outputs": [
        {
          "output_type": "stream",
          "name": "stdout",
          "text": [
            "Result using lambda function: 24\n"
          ]
        }
      ]
    },
    {
      "cell_type": "markdown",
      "source": [
        "4. What is the purpose of the `return` statement in a Python function?\n",
        "\n",
        "- ###  Purpose of the `return` Statement in Python\n",
        "\n",
        "The `return` statement is used in a function to:\n",
        "\n",
        "1. **Send a result back** to the caller.\n",
        "2. **End** the function's execution immediately.\n",
        "3. **Pass data** from the function for use elsewhere in your code.\n",
        "\n",
        "---\n",
        "\n",
        "###  Example 1: Using `return` to send back a value\n",
        "\n",
        "```python\n",
        "def add(a, b):\n",
        "    return a + b\n",
        "\n",
        "result = add(3, 4)\n",
        "print(result)  # Output: 7\n",
        "```\n",
        "\n",
        ">  The function adds two numbers and **returns** the result.\n",
        "\n",
        ">  `result` now holds the value `7`.\n",
        "\n",
        "---\n",
        "\n",
        "###  Example 2: Using `return` without a value\n",
        "\n",
        "```python\n",
        "def greet():\n",
        "    print(\"Hello!\")\n",
        "    return  # Ends the function\n",
        "\n",
        "greet()  # Output = Hello!\n",
        "```\n",
        "\n",
        ">  `return` here just ends the function early, without returning a value.\n",
        "\n",
        "---\n",
        "\n",
        "###  Example 3: `return` vs. `print`\n",
        "\n",
        "```python\n",
        "def double(x):\n",
        "    return x * 2\n",
        "\n",
        "print(double(5))  # Output: 10\n",
        "```\n",
        "\n",
        ">  `print()` displays the result.\n",
        "\n",
        ">  `return` gives the result back to whatever called the function.\n",
        "\n",
        "---\n",
        "\n",
        "\n",
        "5. What are iterators in Python and how do they differ from iterables?\n",
        "\n",
        "- Iterable:\n",
        "\n",
        "* An object **capable of returning its members one at a time**.\n",
        "* Examples: lists, tuples, strings, sets, dictionaries.\n",
        "* Can be used in a `for` loop.\n",
        "* Has the `__iter__()` method.\n",
        "\n",
        "```python\n",
        "# List is an iterable\n",
        "my_list = [1, 2, 3]\n",
        "\n",
        "for item in my_list:\n",
        "    print(item)  output - 1 2 3\n",
        "```\n",
        "\n",
        "---\n",
        "\n",
        "- Iterator:\n",
        "\n",
        "* An object that **remembers its position** during iteration.\n",
        "* Has a `__next__()` method to get the next item.\n",
        "* Created by calling `iter()` on an iterable.\n",
        "\n",
        "```python\n",
        "# Converting an iterable to an iterator\n",
        "my_list = [1, 2, 3]\n",
        "my_iter = iter(my_list)\n",
        "\n",
        "print(next(my_iter))  # Output: 1\n",
        "print(next(my_iter))  # Output: 2\n",
        "print(next(my_iter))  # Output: 3\n",
        "# next(my_iter) now will raise StopIteration\n",
        "```\n",
        "\n",
        "\n",
        "\n",
        "\n",
        "6. Explain the concept of generators in Python and how they are defined.\n",
        "\n",
        "- ###  **Generators in Python**\n",
        "\n",
        "A **generator** is a special type of function in Python that allows you to **iterate over a sequence of values one at a time**, **without storing them all in memory**.\n",
        "\n",
        "---\n",
        "\n",
        "###  **Key Features:**\n",
        "\n",
        "* Defined like a normal function using `def`\n",
        "* Uses the `yield` keyword **instead of** `return`\n",
        "* Generates values **on the fly** (lazy evaluation)\n",
        "* More memory-efficient for large data sets\n",
        "\n",
        "---\n",
        "\n",
        "### **How to Define a Generator:**\n",
        "\n",
        "```python\n",
        "def count_up_to(max):\n",
        "    count = 1\n",
        "    while count <= max:\n",
        "        yield count  # yields value and pauses the function\n",
        "        count += 1\n",
        "```\n",
        "\n",
        "---\n",
        "\n",
        "###  **How to Use It:**\n",
        "\n",
        "```python\n",
        "counter = count_up_to(3)\n",
        "\n",
        "for num in counter:\n",
        "    print(num)\n",
        "```\n",
        "\n",
        "###  Output:\n",
        "\n",
        "```\n",
        "1\n",
        "2\n",
        "3\n",
        "```\n",
        "\n",
        "\n",
        "\n",
        "\n",
        "7. What are the advantages of using generators over regular functions?\n",
        "\n",
        "- ###  Advantages of Using Generators Over Regular Functions\n",
        "\n",
        "Generators have several key advantages, especially when working with **large data sets** or **infinite sequences**:\n",
        "\n",
        "---\n",
        "\n",
        "###  1. **Memory Efficiency**\n",
        "\n",
        "* Generators **don’t store all values in memory**.\n",
        "* They generate values **on the fly** using `yield`.\n",
        "\n",
        " **Use case:** Handling huge files or large sequences without consuming too much RAM.\n",
        "\n",
        "---\n",
        "\n",
        "###  2. **Lazy Evaluation**\n",
        "\n",
        "* Generators produce values **only when needed**, rather than computing everything up front.\n",
        "* This speeds up initial execution and saves time if only part of the data is needed.\n",
        "\n",
        "---\n",
        "\n",
        "###  3. **Simpler Code for Iterators**\n",
        "\n",
        "* Generators automatically manage state and implement the iterator protocol, so you don't need to write `__iter__()` and `__next__()` manually.\n",
        "\n",
        "---\n",
        "\n",
        "###  4. **Infinite Sequences**\n",
        "\n",
        "* Generators can model **infinite streams of data** (e.g., Fibonacci numbers, sensor data) without crashing your program.\n",
        "\n",
        "---\n",
        "\n",
        "###  Example: Compare Regular Function vs Generator\n",
        "\n",
        "####  Regular Function (Returns a List)\n",
        "\n",
        "```python\n",
        "def get_numbers(n):\n",
        "    result = []\n",
        "    for i in range(n):\n",
        "        result.append(i)\n",
        "    return result\n",
        "\n",
        "print(get_numbers(5)) #output - [0, 1, 2, 3, 4]\n",
        "```\n",
        "\n",
        "** Stores entire list in memory**\n",
        "\n",
        "---\n",
        "\n",
        "####  Generator (Uses `yield`)\n",
        "\n",
        "```python\n",
        "def generate_numbers(n):\n",
        "    for i in range(n):\n",
        "        yield i\n",
        "\n",
        "for num in generate_numbers(5):\n",
        "    print(num)  #Output - 0 1 2 3 4\n",
        "```\n",
        "\n",
        "8. What is a lambda function in Python and when is it typically used?\n",
        "\n",
        "- ###  What is a Lambda Function in Python?\n",
        "\n",
        "A **lambda function** is a small, anonymous (unnamed) function defined using the keyword `lambda`. It can take any number of arguments but **has only one expression**. The result of that expression is automatically returned.\n",
        "\n",
        "---\n",
        "\n",
        "###  Characteristics:\n",
        "\n",
        "* Defined in a **single line**.\n",
        "* Often used for **short, simple functions**.\n",
        "* Usually used **where a function is needed temporarily** (e.g., as an argument to another function).\n",
        "\n",
        "---\n",
        "\n",
        "###  Syntax:\n",
        "\n",
        "```python\n",
        "lambda arguments: expression\n",
        "```\n",
        "\n",
        "---\n",
        "\n",
        "###  Example:\n",
        "\n",
        "```python\n",
        "# Regular function\n",
        "def square(x):\n",
        "    return x * x\n",
        "\n",
        "# Equivalent lambda function\n",
        "square_lambda = lambda x: x * x\n",
        "\n",
        "print(square_lambda(5))  # Output: 25\n",
        "```\n",
        "\n",
        "---\n",
        "\n",
        "###  Typical Use Cases:\n",
        "\n",
        "* Passing a quick function as an argument (e.g., to `sorted()`, `map()`, `filter()`).\n",
        "* Writing concise functions without formally defining them with `def`.\n",
        "\n",
        "---\n",
        "\n",
        "###  Example with `sorted()`:\n",
        "\n",
        "```python\n",
        "points = [(2, 3), (1, 4), (4, 1)]\n",
        "sorted_points = sorted(points, key=lambda point: point[1])\n",
        "print(sorted_points)  # Output: [(4, 1), (2, 3), (1, 4)]\n",
        "```\n",
        "\n",
        "\n",
        "9. Explain the purpose and usage of the `map()` function in Python.\n",
        "\n",
        "- ###  Purpose of the `map()` Function in Python\n",
        "\n",
        "The `map()` function **applies a given function to every item of an iterable (like a list)** and returns an iterator with the results.\n",
        "\n",
        "---\n",
        "\n",
        "###  Why use `map()`?\n",
        "\n",
        "* To **transform all items** in a sequence without writing explicit loops.\n",
        "* It makes code concise and often more readable.\n",
        "* Works lazily, so it's memory efficient with large datasets.\n",
        "\n",
        "---\n",
        "\n",
        "###  Syntax:\n",
        "\n",
        "```python\n",
        "map(function, iterable, ...)\n",
        "```\n",
        "\n",
        "* `function`: a function that takes one or more arguments.\n",
        "* `iterable`: one or more iterable(s) whose items will be passed to the function.\n",
        "\n",
        "---\n",
        "\n",
        "###  Example:\n",
        "\n",
        "```python\n",
        "def square(x):\n",
        "    return x * x\n",
        "\n",
        "numbers = [1, 2, 3, 4, 5]\n",
        "\n",
        "squared_numbers = map(square, numbers)\n",
        "\n",
        "print(list(squared_numbers))  # Output: [1, 4, 9, 16, 25]\n",
        "```\n",
        "\n",
        "\n",
        "\n",
        "###  Using `map()` with a Lambda:\n",
        "\n",
        "```python\n",
        "numbers = [1, 2, 3, 4, 5]\n",
        "\n",
        "squared_numbers = map(lambda x: x * x, numbers)\n",
        "\n",
        "print(list(squared_numbers))  # Output: [1, 4, 9, 16, 25]\n",
        "```\n",
        "\n",
        "\n",
        "\n",
        "\n",
        "10. What is the difference between `map()`, `reduce()`, and `filter()` functions in Python?\n",
        "\n",
        "- Great question! Here’s a clear breakdown of the differences between `map()`, `reduce()`, and `filter()` in Python, with examples for each:\n",
        "\n",
        "\n",
        "### 1. **`map()`**\n",
        "\n",
        "* **Purpose:** Applies a function to **each item** in an iterable and returns an iterator with the transformed items.\n",
        "* **Input:** Function + iterable(s)\n",
        "* **Output:** Iterator of transformed items\n",
        "\n",
        "**Example:**\n",
        "\n",
        "```python\n",
        "numbers = [1, 2, 3, 4]\n",
        "\n",
        "squared = map(lambda x: x**2, numbers)\n",
        "print(list(squared))  # Output: [1, 4, 9, 16]\n",
        "```\n",
        "\n",
        "\n",
        "\n",
        "### 2. **`filter()`**\n",
        "\n",
        "* **Purpose:** Filters items in an iterable based on a function that returns `True` or `False`. Returns only the items where the function is `True`.\n",
        "* **Input:** Function (predicate) + iterable\n",
        "* **Output:** Iterator of filtered items\n",
        "\n",
        "**Example:**\n",
        "\n",
        "```python\n",
        "numbers = [1, 2, 3, 4, 5]\n",
        "\n",
        "evens = filter(lambda x: x % 2 == 0, numbers)\n",
        "print(list(evens))  # Output: [2, 4]\n",
        "```\n",
        "\n",
        "\n",
        "\n",
        "### 3. **`reduce()`** *(needs to be imported from `functools`)*\n",
        "\n",
        "* **Purpose:** Applies a function of two arguments cumulatively to the items of an iterable, reducing it to a **single value**.\n",
        "* **Input:** Function + iterable (+ optional initializer)\n",
        "* **Output:** Single aggregated value\n",
        "\n",
        "**Example:**\n",
        "\n",
        "```python\n",
        "from functools import reduce\n",
        "\n",
        "numbers = [1, 2, 3, 4]\n",
        "\n",
        "product = reduce(lambda x, y: x * y, numbers)\n",
        "print(product)  # Output: 24  (1*2*3*4)\n",
        "```\n",
        "\n",
        "---\n",
        "\n",
        "\n",
        "11. Using pen & Paper write the internal mechanism for sum operation using  reduce function on this given\n",
        "list:[47,11,42,13]\n",
        "\n",
        "- HTML <https://drive.google.com/file/d/18VYrXjiuF87LSsaU-Lhq-f5I_eTw68gs/view?usp=drive_link>\n",
        "\n"
      ],
      "metadata": {
        "id": "mRs1TNRTauVd"
      }
    },
    {
      "cell_type": "markdown",
      "source": [
        "### Practical Question"
      ],
      "metadata": {
        "id": "jgaE665Be9V-"
      }
    },
    {
      "cell_type": "code",
      "metadata": {
        "colab": {
          "base_uri": "https://localhost:8080/"
        },
        "id": "c35bd03f",
        "outputId": "9da88c07-3b52-453e-8eb6-2d854f509ecf"
      },
      "source": [
        "#1. Write a Python function that takes a list of numbers as input and returns the sum of all even numbers in the list.\n",
        "\n",
        "def sum_even_numbers(numbers):\n",
        "  \"\"\"\n",
        "  Calculates the sum of all even numbers in a list.\n",
        "\n",
        "  Args:\n",
        "    numbers: A list of numbers.\n",
        "\n",
        "  Returns:\n",
        "    The sum of all even numbers in the list.\n",
        "  \"\"\"\n",
        "  even_sum = 0\n",
        "  for number in numbers:\n",
        "    if number % 2 == 0:\n",
        "      even_sum += number\n",
        "  return even_sum\n",
        "\n",
        "# Example usage:\n",
        "my_list = [1, 2, 3, 4, 5, 6, 7, 8, 9, 10]\n",
        "result = sum_even_numbers(my_list)\n",
        "print(f\"The sum of even numbers in the list is: {result}\")"
      ],
      "execution_count": null,
      "outputs": [
        {
          "output_type": "stream",
          "name": "stdout",
          "text": [
            "The sum of even numbers in the list is: 30\n"
          ]
        }
      ]
    },
    {
      "cell_type": "code",
      "metadata": {
        "colab": {
          "base_uri": "https://localhost:8080/"
        },
        "id": "7700414a",
        "outputId": "64ebae67-e2b2-48dc-faa9-35b6b6a74a7c"
      },
      "source": [
        "#2. Create a Python function that accepts a string and returns the reverse of that string.\n",
        "\n",
        "def reverse_string(input_string):\n",
        "  \"\"\"\n",
        "  Reverses a given string.\n",
        "\n",
        "  Args:\n",
        "    input_string: The string to be reversed.\n",
        "\n",
        "  Returns:\n",
        "    The reversed string.\n",
        "  \"\"\"\n",
        "  return input_string[::-1]\n",
        "\n",
        "# Example usage:\n",
        "my_string = \"hello\"\n",
        "reversed_string = reverse_string(my_string)\n",
        "print(f\"The original string is: {my_string}\")\n",
        "print(f\"The reversed string is: {reversed_string}\")"
      ],
      "execution_count": null,
      "outputs": [
        {
          "output_type": "stream",
          "name": "stdout",
          "text": [
            "The original string is: hello\n",
            "The reversed string is: olleh\n"
          ]
        }
      ]
    },
    {
      "cell_type": "code",
      "metadata": {
        "colab": {
          "base_uri": "https://localhost:8080/"
        },
        "id": "8fe931d0",
        "outputId": "da54b314-c209-4f00-8c80-a49f6c13111f"
      },
      "source": [
        "#3. Implement a Python function that takes a list of integers and returns a new list containing the squares of each number.\n",
        "\n",
        "def square_numbers(numbers):\n",
        "  \"\"\"\n",
        "  Squares each number in a list and returns a new list.\n",
        "\n",
        "  Args:\n",
        "    numbers: A list of integers.\n",
        "\n",
        "  Returns:\n",
        "    A new list containing the squares of each number.\n",
        "  \"\"\"\n",
        "  squared_list = [number ** 2 for number in numbers]\n",
        "  return squared_list\n",
        "\n",
        "# Example usage:\n",
        "my_numbers = [1, 2, 3, 4, 5]\n",
        "squared_numbers = square_numbers(my_numbers)\n",
        "print(f\"Original list: {my_numbers}\")\n",
        "print(f\"Squared list: {squared_numbers}\")"
      ],
      "execution_count": null,
      "outputs": [
        {
          "output_type": "stream",
          "name": "stdout",
          "text": [
            "Original list: [1, 2, 3, 4, 5]\n",
            "Squared list: [1, 4, 9, 16, 25]\n"
          ]
        }
      ]
    },
    {
      "cell_type": "code",
      "metadata": {
        "colab": {
          "base_uri": "https://localhost:8080/"
        },
        "id": "66806d64",
        "outputId": "e81e64be-1900-418e-a4a7-dee842b6e25b"
      },
      "source": [
        "#4. Write a Python function that checks if a given number is prime or not from 1 to 200.\n",
        "\n",
        "def is_prime(number):\n",
        "  \"\"\"\n",
        "  Checks if a given number between 1 and 200 is prime.\n",
        "\n",
        "  Args:\n",
        "    number: An integer between 1 and 200.\n",
        "\n",
        "  Returns:\n",
        "    True if the number is prime, False otherwise.\n",
        "  \"\"\"\n",
        "  if not 1 <= number <= 200:\n",
        "    return \"Number is outside the specified range (1-200).\"\n",
        "  if number <= 1:\n",
        "    return False  # Numbers less than or equal to 1 are not prime\n",
        "  if number <= 3:\n",
        "    return True   # 2 and 3 are prime\n",
        "  if number % 2 == 0 or number % 3 == 0:\n",
        "    return False  # Exclude multiples of 2 and 3\n",
        "\n",
        "  # Check for prime by iterating from 5 with a step of 6\n",
        "  i = 5\n",
        "  while i * i <= number:\n",
        "    if number % i == 0 or number % (i + 2) == 0:\n",
        "      return False\n",
        "    i += 6\n",
        "\n",
        "  return True\n",
        "\n",
        "# Example usage:\n",
        "print(f\"Is 7 a prime number? {is_prime(7)}\")\n",
        "print(f\"Is 10 a prime number? {is_prime(10)}\")\n",
        "print(f\"Is 199 a prime number? {is_prime(199)}\")\n",
        "print(f\"Is 1 a prime number? {is_prime(1)}\")\n",
        "print(f\"Is 201 a prime number? {is_prime(201)}\")"
      ],
      "execution_count": null,
      "outputs": [
        {
          "output_type": "stream",
          "name": "stdout",
          "text": [
            "Is 7 a prime number? True\n",
            "Is 10 a prime number? False\n",
            "Is 199 a prime number? True\n",
            "Is 1 a prime number? False\n",
            "Is 201 a prime number? Number is outside the specified range (1-200).\n"
          ]
        }
      ]
    },
    {
      "cell_type": "code",
      "metadata": {
        "colab": {
          "base_uri": "https://localhost:8080/"
        },
        "id": "a455dc40",
        "outputId": "f9409d2c-b537-4093-a955-b21fd6d88ed4"
      },
      "source": [
        "#5. Create an iterator class in Python that generates the Fibonacci sequence up to a specified number of terms.\n",
        "\n",
        "class FibonacciIterator:\n",
        "    \"\"\"\n",
        "    An iterator class that generates the Fibonacci sequence.\n",
        "    \"\"\"\n",
        "    def __init__(self, limit):\n",
        "        self.limit = limit\n",
        "        self.count = 0\n",
        "        self.a = 0\n",
        "        self.b = 1\n",
        "\n",
        "    def __iter__(self):\n",
        "        return self\n",
        "\n",
        "    def __next__(self):\n",
        "        if self.count < self.limit:\n",
        "            if self.count == 0:\n",
        "                self.count += 1\n",
        "                return self.a\n",
        "            elif self.count == 1:\n",
        "                self.count += 1\n",
        "                return self.b\n",
        "            else:\n",
        "                next_fib = self.a + self.b\n",
        "                self.a = self.b\n",
        "                self.b = next_fib\n",
        "                self.count += 1\n",
        "                return next_fib\n",
        "        else:\n",
        "            raise StopIteration\n",
        "\n",
        "# Example usage:\n",
        "fib_sequence = FibonacciIterator(10)\n",
        "for number in fib_sequence:\n",
        "    print(number)"
      ],
      "execution_count": null,
      "outputs": [
        {
          "output_type": "stream",
          "name": "stdout",
          "text": [
            "0\n",
            "1\n",
            "1\n",
            "2\n",
            "3\n",
            "5\n",
            "8\n",
            "13\n",
            "21\n",
            "34\n"
          ]
        }
      ]
    },
    {
      "cell_type": "code",
      "metadata": {
        "colab": {
          "base_uri": "https://localhost:8080/"
        },
        "id": "88cd3e9d",
        "outputId": "5bf5f156-9139-460b-f128-67763db33ad6"
      },
      "source": [
        "#6. Write a generator function in Python that yields the powers of 2 up to a given exponent.\n",
        "\n",
        "def powers_of_two(exponent):\n",
        "  \"\"\"\n",
        "  A generator function that yields powers of 2 up to a given exponent.\n",
        "\n",
        "  Args:\n",
        "    exponent: The maximum exponent (inclusive).\n",
        "\n",
        "  Yields:\n",
        "    The powers of 2 from 2^0 up to 2^exponent.\n",
        "  \"\"\"\n",
        "  for i in range(exponent + 1):\n",
        "    yield 2 ** i\n",
        "\n",
        "# Example usage:\n",
        "for power in powers_of_two(5):\n",
        "  print(power)"
      ],
      "execution_count": null,
      "outputs": [
        {
          "output_type": "stream",
          "name": "stdout",
          "text": [
            "1\n",
            "2\n",
            "4\n",
            "8\n",
            "16\n",
            "32\n"
          ]
        }
      ]
    },
    {
      "cell_type": "code",
      "metadata": {
        "colab": {
          "base_uri": "https://localhost:8080/"
        },
        "id": "4aab8f39",
        "outputId": "8d7f686d-39d1-4396-94e5-9cc203ed4958"
      },
      "source": [
        "# Create a dummy file for demonstration\n",
        "with open(\"sample.txt\", \"w\") as f:\n",
        "  f.write(\"This is the first line.\\n\")\n",
        "  f.write(\"This is the second line.\\n\")\n",
        "  f.write(\"And this is the third line.\")\n",
        "\n",
        "#7. Implement a generator function that reads a file line by line and yields each line as a string.\n",
        "\n",
        "def read_file_lines(filename):\n",
        "  \"\"\"\n",
        "  A generator function that reads a file line by line and yields each line.\n",
        "\n",
        "  Args:\n",
        "    filename: The name of the file to read.\n",
        "\n",
        "  Yields:\n",
        "    Each line of the file as a string.\n",
        "  \"\"\"\n",
        "  try:\n",
        "    with open(filename, 'r') as f:\n",
        "      for line in f:\n",
        "        yield line.strip() # .strip() removes leading/trailing whitespace, including newline characters\n",
        "  except FileNotFoundError:\n",
        "    print(f\"Error: File '{filename}' not found.\")\n",
        "\n",
        "# Example usage:\n",
        "print(\"Reading file line by line:\")\n",
        "for line in read_file_lines(\"sample.txt\"):\n",
        "  print(line)\n",
        "\n",
        "# Clean up the dummy file\n",
        "import os\n",
        "os.remove(\"sample.txt\")"
      ],
      "execution_count": null,
      "outputs": [
        {
          "output_type": "stream",
          "name": "stdout",
          "text": [
            "Reading file line by line:\n",
            "This is the first line.\n",
            "This is the second line.\n",
            "And this is the third line.\n"
          ]
        }
      ]
    },
    {
      "cell_type": "code",
      "metadata": {
        "colab": {
          "base_uri": "https://localhost:8080/"
        },
        "id": "0d67beeb",
        "outputId": "04f39d77-b0ab-4287-efa1-a7408de5cf56"
      },
      "source": [
        "#8. Use a lambda function in Python to sort a list of tuples based on the second element of each tuple.\n",
        "\n",
        "list_of_tuples = [(1, 5), (3, 2), (2, 8), (4, 1)]\n",
        "\n",
        "# Sort the list of tuples based on the second element using a lambda function\n",
        "sorted_list = sorted(list_of_tuples, key=lambda item: item[1])\n",
        "\n",
        "print(f\"Original list: {list_of_tuples}\")\n",
        "print(f\"Sorted list based on the second element: {sorted_list}\")"
      ],
      "execution_count": null,
      "outputs": [
        {
          "output_type": "stream",
          "name": "stdout",
          "text": [
            "Original list: [(1, 5), (3, 2), (2, 8), (4, 1)]\n",
            "Sorted list based on the second element: [(4, 1), (3, 2), (1, 5), (2, 8)]\n"
          ]
        }
      ]
    },
    {
      "cell_type": "code",
      "metadata": {
        "colab": {
          "base_uri": "https://localhost:8080/"
        },
        "id": "de9e9107",
        "outputId": "7f65dc54-fdcc-4eeb-93f7-f6aaff897dff"
      },
      "source": [
        "#9. Write a Python program that uses `map()` to convert a list of temperatures from Celsius to Fahrenheit.\n",
        "\n",
        "# Formula to convert Celsius to Fahrenheit: (Celsius * 9/5) + 32\n",
        "def celsius_to_fahrenheit(celsius):\n",
        "  return (celsius * 9/5) + 32\n",
        "\n",
        "# List of temperatures in Celsius\n",
        "celsius_temperatures = [0, 10, 20, 30, 40, 100]\n",
        "\n",
        "# Use map() to convert each Celsius temperature to Fahrenheit\n",
        "fahrenheit_temperatures = list(map(celsius_to_fahrenheit, celsius_temperatures))\n",
        "\n",
        "print(f\"Celsius temperatures: {celsius_temperatures}\")\n",
        "print(f\"Fahrenheit temperatures: {fahrenheit_temperatures}\")"
      ],
      "execution_count": null,
      "outputs": [
        {
          "output_type": "stream",
          "name": "stdout",
          "text": [
            "Celsius temperatures: [0, 10, 20, 30, 40, 100]\n",
            "Fahrenheit temperatures: [32.0, 50.0, 68.0, 86.0, 104.0, 212.0]\n"
          ]
        }
      ]
    },
    {
      "cell_type": "code",
      "metadata": {
        "colab": {
          "base_uri": "https://localhost:8080/"
        },
        "id": "590345db",
        "outputId": "f160f7bb-83f9-49d2-e6de-45100bf623af"
      },
      "source": [
        "#10. Create a Python program that uses `filter()` to remove all the vowels from a given string.\n",
        "\n",
        "def is_not_vowel(character):\n",
        "  \"\"\"Checks if a character is not a vowel.\"\"\"\n",
        "  vowels = \"aeiouAEIOU\"\n",
        "  return character not in vowels\n",
        "\n",
        "input_string = \"Hello World\"\n",
        "\n",
        "# Use filter() to remove vowels\n",
        "filtered_characters = filter(is_not_vowel, input_string)\n",
        "\n",
        "# Join the filtered characters back into a string\n",
        "result_string = \"\".join(filtered_characters)\n",
        "\n",
        "print(f\"Original string: {input_string}\")\n",
        "print(f\"String after removing vowels: {result_string}\")"
      ],
      "execution_count": null,
      "outputs": [
        {
          "output_type": "stream",
          "name": "stdout",
          "text": [
            "Original string: Hello World\n",
            "String after removing vowels: Hll Wrld\n"
          ]
        }
      ]
    },
    {
      "cell_type": "code",
      "source": [
        "#11 Write a Python program, which returns a list with 2-tuples. Each tuple consists of the order number and the product of the price per item and the quantity.\n",
        "    # The product should be increased by 10,- € if the value of theorder is smaller than 100,00 €.Write a Python program using lambda and map.\n",
        "\n",
        "orders = [\n",
        "    [34587, \"Learning Python, Mark Lutz\", 4, 40.95],\n",
        "    [98762, \"Programming Python, Mark Lutz\", 5, 56.80],\n",
        "    [77226, \"Head First Python, Paul Barry\", 3, 32.95],\n",
        "    [88112, \"Einführung in Python3, Bernd Klein\", 3, 24.99]\n",
        "]\n",
        "\n",
        "result = list(\n",
        "    map(lambda x: (x[0], x[2] * x[3] if x[2] * x[3] >= 100 else x[2] * x[3] + 10), orders)\n",
        ")\n",
        "\n",
        "print(result)\n"
      ],
      "metadata": {
        "id": "UDDXUPBpl7dw",
        "colab": {
          "base_uri": "https://localhost:8080/"
        },
        "outputId": "78047a50-68cf-42be-c3e2-a39dfbb2ef79"
      },
      "execution_count": 70,
      "outputs": [
        {
          "output_type": "stream",
          "name": "stdout",
          "text": [
            "[(34587, 163.8), (98762, 284.0), (77226, 108.85000000000001), (88112, 84.97)]\n"
          ]
        }
      ]
    }
  ]
}