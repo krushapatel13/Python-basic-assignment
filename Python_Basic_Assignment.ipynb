{
  "nbformat": 4,
  "nbformat_minor": 0,
  "metadata": {
    "colab": {
      "provenance": []
    },
    "kernelspec": {
      "name": "python3",
      "display_name": "Python 3"
    },
    "language_info": {
      "name": "python"
    }
  },
  "cells": [
    {
      "cell_type": "markdown",
      "source": [
        "# **Python Basics Assignment**"
      ],
      "metadata": {
        "id": "0T5RflAyqCs2"
      }
    },
    {
      "cell_type": "markdown",
      "source": [
        "### THEORETICAL QUESTIONS"
      ],
      "metadata": {
        "id": "9GwUsGCQ4Yzh"
      }
    },
    {
      "cell_type": "markdown",
      "source": [
        "1. What is Python, and why is it popular?\n",
        "\n",
        "=> Python is a high-level language which is easy to understand and write, making it a popular choice among developers and programmers.\n",
        "\n",
        "- Ease of Learning: Its clear and readable syntax makes it easy for beginners to pick up.\n",
        "- Versatility: Python is used in a wide range of applications, from web development and data science to artificial intelligence and scientific computing.\n",
        "- Large and Active Community: A large and supportive community contributes to a wealth of resources, libraries, and frameworks.\n",
        "- Extensive Libraries: Python has a vast collection of libraries that provide pre-written code for various tasks, saving developers time and effort.\n",
        "- Portability: Python code can run on different operating systems without needing to be changed.\n",
        "\n",
        "\n",
        "2. What is an interpreter in Python?\n",
        "\n",
        "=> An interpreter in Python is a program that reads and executes Python code line by line. Unlike compiled languages, where the entire code is translated into machine code before execution, Python's interpreter translates and runs the code on the fly. this interpreted nature makes Python more flexible and easier to debug, as you can execute code interactively and see the results immediately.\n",
        "\n",
        "3. What are pre-defined keywords in Python?\n",
        "\n",
        "=> Pre-defined keywords in Python are special words that have reserved meanings and cannot be used as identifiers (like variable names, function names, etc.). These keywords are part of the Python language's syntax and structure.\n",
        "\n",
        "Python keywords are:\n",
        "\n",
        "if, else, elif (for conditional statements)\n",
        "\n",
        "for, while (for loops)\n",
        "\n",
        "def (to define functions)\n",
        "\n",
        "class (to define classes)\n",
        "\n",
        "import, from (to import modules)\n",
        "\n",
        "True, False, None (special values)\n",
        "\n",
        "4. Can keywords be used as variable names?\n",
        "\n",
        "=> No, keywords cannot be used as variable names (or any other identifiers like function names, class names, etc.) in Python. They have predefined meanings within the language's syntax, and using them for other purposes would cause syntax errors.\n",
        "\n",
        "5. What is mutability in Python?\n",
        "\n",
        "=> In Python, objects can be either changeable (modifiable) or unchangeable (unchangeable).\n",
        "\n",
        "Mutable objects, such as lists and dictionaries, can be modified after creation, while immutable objects, such as tuples and strings, cannot.\n",
        "\n",
        "Mutability affects how objects are stored and manipulated in memory, impacting performance, memory usage, and concurrency in Python programs.\n",
        "\n",
        "6. Why are lists mutable, but tuples are immutable?\n",
        "\n",
        "=> Lists are mutable because lists are designed for dynamic collections. Lists are intended to be dynamic sequences where elements can be added, removed, or modified after creation. This mutability makes them flexible for tasks where the size or content of the collection changes frequently.\n",
        "\n",
        "Tuples are immutable because tuples are designed for fixed collections. Tuples are intended for collections where the elements are fixed and should not be changed after creation. This immutability provides data integrity and makes tuples suitable for representing fixed sets of related items, such as coordinates (x, y).\n",
        "\n",
        "7. What is the difference between “==” and “is” operators in Python?\n",
        "\n",
        "=> The \"==\" and \"is\" operators in Python are used for comparison, but they compare different things:\n",
        "\n",
        "- \"==\" (Equality operator): This operator checks if the values of two operands are equal. It compares the content of the objects.\n",
        "- \"is\" (Identity operator): This operator checks if two operands refer to the same object in memory. It compares the memory addresses of the objects.\n",
        "\n",
        "8. What are logical operators in Python?\n",
        "\n",
        "=> Logical operators in Python are used to combine conditional statements or expressions. They return boolean values (True or False). The main logical operators are:\n",
        "\n",
        "\"and\" : Returns True if both the operands are True.\n",
        "x = 5\n",
        "print(x > 0 and x < 10)\n",
        "\n",
        "Output: True\n",
        "\n",
        "\"or\" : Returns True if at least one of the operands is True.\n",
        "y = 15\n",
        "print(y > 10 or y < 5)\n",
        "\n",
        "Output: True\n",
        "\n",
        "\"not\" : Returns the inverse boolean value of the operand. If the operand is True, it returns False, and if the operand is False, it returns True.\n",
        "z = False\n",
        "print(not z)\n",
        "\n",
        "Output: True\n",
        "\n",
        "\n",
        "9. What is type casting in Python?\n",
        "\n",
        "=> Type casting (or type conversion) in Python is the process of converting a value from one data type to another. This is often necessary when you need to perform operations that require specific data types.\n",
        "\n",
        "Python provides built-in functions for type casting, such as:\n",
        "\n",
        "int(): Converts to an integer.\n",
        "\n",
        "float(): Converts to a floating-point number.\n",
        "\n",
        "str(): Converts to a string.\n",
        "\n",
        "list(): Converts to a list.\n",
        "\n",
        "tuple(): Converts to a tuple.\n",
        "\n",
        "dict(): Converts to a dictionary.\n",
        "\n",
        "set(): Converts to a set.\n",
        "\n",
        "###Example- float_num = 3.14\n",
        "\n",
        "int_num = int(float_num)\n",
        "\n",
        "print(int_num)\n",
        "\n",
        "print(type(int_num))\n",
        "\n",
        "output =\n",
        "3\n",
        "\n",
        "<class 'int'>\n",
        "\n",
        "10. What is the difference between implicit and explicit type casting?\n",
        "\n",
        "=>\n",
        "\n",
        "- Implicit Type Casting (Coercion): This is when Python automatically converts one data type to another during an operation without any explicit instruction from the programmer. This usually happens when performing operations involving different numeric types. Python will promote the \"smaller\" type to the \"larger\" type to avoid data loss.\n",
        "\n",
        "e.g - integer_num = 10\n",
        "\n",
        "float_num = 5.5\n",
        "\n",
        "result = integer_num + float_num\n",
        "\n",
        "print(result)\n",
        "\n",
        "print(type(result))\n",
        "\n",
        "Output - 15.5\n",
        "\n",
        "<class 'float'>\n",
        "\n",
        "- Explicit Type Casting (Type Conversion): This is when the programmer deliberately converts a value from one data type to another using built-in functions like int(), float(), str(), etc. This is necessary when Python cannot automatically convert the types or when you want to ensure a specific type for an operation.\n",
        "\n",
        "e.g - num_str = \"100\"\n",
        "\n",
        "num_int = int(num_str)\n",
        "\n",
        "print(num_int)\n",
        "\n",
        "print(type(num_int))\n",
        "\n",
        "Output - 100\n",
        "\n",
        "<class 'int'>\n",
        "\n",
        "11. What is the purpose of conditional statements in Python?\n",
        "\n",
        "=> The purpose of conditional statements in Python is to execute different blocks of code based on whether a certain condition is true or false. They allow your program to make decisions and follow different paths of execution, making your programs more dynamic and flexible.\n",
        "\n",
        "The most common conditional statements in Python are:\n",
        "\n",
        "- \"if\" statement: Executes a block of code if a condition is true.\n",
        "- \"elif\" statement: (short for \"else if\") Checks another condition if the previous if or elif conditions were false.\n",
        "- \"else\" statement: Executes a block of code if all previous if and elif conditions were false.\n",
        "\n",
        "12. How does the elif statement work?\n",
        "\n",
        "=> The elif statement in Python works in conjunction with the if statement (and optionally the else statement) to provide multiple conditions to check. It stands for \"else if\".\n",
        "\n",
        "Here's how it works:\n",
        "\n",
        "1. The if statement's condition is checked first. If it's True, the code block under the if is executed, and the rest of the elif and else blocks are skipped.\n",
        "2. If the if statement's condition is False, the program moves to the first elif statement (if there is one).\n",
        "3. The condition of the elif statement is then checked. If it's True, the code block under that elif is executed, and any subsequent elif or else blocks are skipped.\n",
        "4. If the elif condition is False, the program moves to the next elif (if any) and repeats the process.\n",
        "5. If all if and elif conditions are False, the code block under the else statement (if there is one) is executed.\n",
        "You can have multiple elif statements between an if and an else.\n",
        "\n",
        "example:\n",
        "\n",
        "score = 75\n",
        "\n",
        "if score >= 90:\n",
        "\n",
        "    print(\"Excellent\")\n",
        "elif score >= 80:\n",
        "\n",
        "    print(\"Very Good\")\n",
        "elif score >= 70:\n",
        "\n",
        "    print(\"Good\")\n",
        "else:\n",
        "\n",
        "    print(\"Needs Improvement\")\n",
        "\n",
        "In this example, since score is 75, the if condition (score >= 90) is false. The program then checks the first elif condition (score >= 80), which is also false. It then checks the second elif condition (score >= 70), which is true. So, \"Good\" is printed, and the else block is skipped.\n",
        "\n",
        "13. What is the difference between for and while loops?\n",
        "\n",
        "=>\n",
        "- \"for\" loops: These are typically used when you know the number of times you want to iterate or when you want to iterate over a sequence (like a list, tuple, string, or range). The loop continues for each item in the sequence.\n",
        "\n",
        "Example:\n",
        "\n",
        "fruits = [\"apple\", \"banana\", \"cherry\"]\n",
        "\n",
        "for fruit in fruits:\n",
        "\n",
        "    print(fruit)\n",
        "\n",
        "- \"while\" loops: These are used when you want to repeat a block of code as long as a certain condition is true. The loop continues until the condition becomes false. You need to ensure that the condition will eventually become false to avoid an infinite loop.\n",
        "\n",
        "Example:\n",
        "\n",
        "count = 0\n",
        "\n",
        "while count < 5:\n",
        "\n",
        "    print(count)\n",
        "\n",
        "    count += 1    \n",
        "\n",
        "14. Describe a scenario where a while loop is more suitable than a for loop?\n",
        "\n",
        "=> A while loop is more suitable than a for loop when the number of iterations is not known beforehand and depends on a condition being met.\n",
        "\n",
        "Here's a scenario:\n",
        "\n",
        "Scenario: Reading data from a file until a specific marker is found.\n",
        "\n",
        "Imagine you are reading a log file or a data stream, and you need to process lines until you encounter a specific line that indicates the end of the relevant data. You don't know in advance how many lines you'll need to read before finding that marker.\n",
        "\n",
        "In this case, a while loop is ideal. You can set up a condition that continues reading lines as long as the end marker has not been reached\n",
        "\n",
        "# Fictional example: Reading lines from a file-like object\n",
        "file_like_object = [\"line 1\", \"line 2\", \"END_MARKER\", \"line 3\", \"line 4\"]\n",
        "\n",
        "data_lines = []\n",
        "\n",
        "reading = True\n",
        "\n",
        "index = 0\n",
        "\n",
        "\n",
        "while reading and index < len(file_like_object):\n",
        "\n",
        "    line = file_like_object[index]\n",
        "    if line == \"END_MARKER\":\n",
        "        reading = False\n",
        "    else:\n",
        "        data_lines.append(line)\n",
        "    index += 1\n",
        "print(\"Data read:\", data_lines)\n",
        "\n",
        "\n",
        "In this example, the while loop continues as long as reading is True and we haven't reached the end of the file_like_object. The loop terminates when the \"END_MARKER\" is found, regardless of how many lines were read before it. A for loop would not be as suitable here because you would need to iterate over the entire sequence, even if the end marker is found early."
      ],
      "metadata": {
        "id": "6g0QxfvXrKN8"
      }
    },
    {
      "cell_type": "markdown",
      "source": [
        "### PRACTICAL QUESTIONS"
      ],
      "metadata": {
        "id": "28Q9P9Nj4naj"
      }
    },
    {
      "cell_type": "code",
      "source": [
        "#1 Write a Python program to print \"Hello, World!\"\n",
        "print(\"Hello, World\")"
      ],
      "metadata": {
        "colab": {
          "base_uri": "https://localhost:8080/"
        },
        "id": "-snlSzzM5jnk",
        "outputId": "d41ec294-7030-4086-935e-4bf6974e3fc1"
      },
      "execution_count": 1,
      "outputs": [
        {
          "output_type": "stream",
          "name": "stdout",
          "text": [
            "Hello, World\n"
          ]
        }
      ]
    },
    {
      "cell_type": "code",
      "source": [
        "#2 Write a Python program that displays your name and age.\n",
        "\n",
        "name = \"Krusha Patel\"\n",
        "age = \"22\"\n",
        "print(f\"My name is {name} and i am {age} years old\")"
      ],
      "metadata": {
        "colab": {
          "base_uri": "https://localhost:8080/"
        },
        "id": "czHcqY2E50x7",
        "outputId": "a245f648-07e1-4f12-a138-d365919dd0b0"
      },
      "execution_count": 3,
      "outputs": [
        {
          "output_type": "stream",
          "name": "stdout",
          "text": [
            "My name is Krusha Patel and i am 22 years old\n"
          ]
        }
      ]
    },
    {
      "cell_type": "code",
      "source": [
        "#3 Write code to print all the pre-defined keywords in Python using the keyword library\n",
        "\n",
        "import keyword\n",
        "\n",
        "print(keyword.kwlist)\n",
        "#"
      ],
      "metadata": {
        "colab": {
          "base_uri": "https://localhost:8080/"
        },
        "id": "4dhiqDUA6X5Q",
        "outputId": "d9b48fe7-0829-449b-a0fb-a9cdaba1e0fa"
      },
      "execution_count": 4,
      "outputs": [
        {
          "output_type": "stream",
          "name": "stdout",
          "text": [
            "['False', 'None', 'True', 'and', 'as', 'assert', 'async', 'await', 'break', 'class', 'continue', 'def', 'del', 'elif', 'else', 'except', 'finally', 'for', 'from', 'global', 'if', 'import', 'in', 'is', 'lambda', 'nonlocal', 'not', 'or', 'pass', 'raise', 'return', 'try', 'while', 'with', 'yield']\n"
          ]
        }
      ]
    },
    {
      "cell_type": "code",
      "source": [
        "#4 Write a program that checks if a given word is a Python keyword.\n",
        "\n",
        "import keyword\n",
        "\n",
        "word = input(\"Enter a word: \")\n",
        "\n",
        "if keyword.iskeyword(word):\n",
        "    print(f\"{word} is a Python keyword\")\n",
        "else:\n",
        "    print(f\"{word} is not a Python keyword\")"
      ],
      "metadata": {
        "colab": {
          "base_uri": "https://localhost:8080/"
        },
        "id": "xagdtpYN6qeO",
        "outputId": "769d5680-de2e-4d03-b0e9-d0f49a06c8ae"
      },
      "execution_count": 9,
      "outputs": [
        {
          "output_type": "stream",
          "name": "stdout",
          "text": [
            "Enter a word: python\n",
            "python is not a Python keyword\n"
          ]
        }
      ]
    },
    {
      "cell_type": "code",
      "metadata": {
        "colab": {
          "base_uri": "https://localhost:8080/"
        },
        "id": "78faf772",
        "outputId": "af45faea-3569-4bf6-ccbe-aa5a70b64c23"
      },
      "source": [
        "# 5. Create a list and tuple in Python, and demonstrate how attempting to change an element works differently for each.\n",
        "\n",
        "# Create a list\n",
        "my_list = [1, 2, 3, 4, 5]\n",
        "print(\"Original list:\", my_list)\n",
        "\n",
        "# Attempt to change an element in the list\n",
        "try:\n",
        "    my_list[0] = 10\n",
        "    print(\"List after changing element:\", my_list)\n",
        "except TypeError as e:\n",
        "    print(\"Error changing list element:\", e)\n",
        "\n",
        "print(\"-\" * 20) # Separator\n",
        "\n",
        "# Create a tuple\n",
        "my_tuple = (1, 2, 3, 4, 5)\n",
        "print(\"Original tuple:\", my_tuple)\n",
        "\n",
        "# Attempt to change an element in the tuple\n",
        "try:\n",
        "    my_tuple[0] = 10\n",
        "    print(\"Tuple after changing element:\", my_tuple)\n",
        "except TypeError as e:\n",
        "    print(\"Error changing tuple element:\", e)"
      ],
      "execution_count": 10,
      "outputs": [
        {
          "output_type": "stream",
          "name": "stdout",
          "text": [
            "Original list: [1, 2, 3, 4, 5]\n",
            "List after changing element: [10, 2, 3, 4, 5]\n",
            "--------------------\n",
            "Original tuple: (1, 2, 3, 4, 5)\n",
            "Error changing tuple element: 'tuple' object does not support item assignment\n"
          ]
        }
      ]
    },
    {
      "cell_type": "code",
      "source": [
        "#6 Write a function to demonstrate the behavior of mutable and immutable arguments.\n",
        "\n",
        "# Function to modify an integer (immutable)\n",
        "def modify_int(x):\n",
        "    print(\"Inside function before change:\", x)\n",
        "    x += 10\n",
        "    print(\"Inside function after change:\", x)\n",
        "\n",
        "# Function to modify a list (mutable)\n",
        "def modify_list(lst):\n",
        "    print(\"Inside function before change:\", lst)\n",
        "    lst.append(100)\n",
        "    print(\"Inside function after change:\", lst)\n",
        "\n",
        "# Main program\n",
        "# Immutable example\n",
        "num = 50\n",
        "print(\"Before calling modify_int:\", num)\n",
        "modify_int(num)\n",
        "print(\"After calling modify_int:\", num)\n",
        "\n",
        "print(\"\\n\" + \"-\"*40 + \"\\n\")\n",
        "\n",
        "# Mutable example\n",
        "my_list = [1, 2, 3]\n",
        "print(\"Before calling modify_list:\", my_list)\n",
        "modify_list(my_list)\n",
        "print(\"After calling modify_list:\", my_list)\n"
      ],
      "metadata": {
        "colab": {
          "base_uri": "https://localhost:8080/"
        },
        "id": "gSvec90X8PFn",
        "outputId": "0789d8f6-c447-4f57-f53b-83b4776831bb"
      },
      "execution_count": 11,
      "outputs": [
        {
          "output_type": "stream",
          "name": "stdout",
          "text": [
            "Before calling modify_int: 50\n",
            "Inside function before change: 50\n",
            "Inside function after change: 60\n",
            "After calling modify_int: 50\n",
            "\n",
            "----------------------------------------\n",
            "\n",
            "Before calling modify_list: [1, 2, 3]\n",
            "Inside function before change: [1, 2, 3]\n",
            "Inside function after change: [1, 2, 3, 100]\n",
            "After calling modify_list: [1, 2, 3, 100]\n"
          ]
        }
      ]
    },
    {
      "cell_type": "code",
      "source": [
        "#7. Write a program that performs basic arithmetic operations on two user-input numbers\n",
        "\n",
        "num1 = float(input(\"Enter the first number: \"))\n",
        "num2 = float(input(\"Enter the second number: \"))\n",
        "\n",
        "print(\"Addition:\", num1 + num2)\n",
        "print(\"Subtraction:\", num1 - num2)\n",
        "print(\"Multiplication:\", num1 * num2)"
      ],
      "metadata": {
        "colab": {
          "base_uri": "https://localhost:8080/"
        },
        "id": "rfmjRoBy8hSL",
        "outputId": "8e0c94a7-a638-4576-ed7b-f96b941132f1"
      },
      "execution_count": 12,
      "outputs": [
        {
          "output_type": "stream",
          "name": "stdout",
          "text": [
            "Enter the first number: 23\n",
            "Enter the second number: 54\n",
            "Addition: 77.0\n",
            "Subtraction: -31.0\n",
            "Multiplication: 1242.0\n"
          ]
        }
      ]
    },
    {
      "cell_type": "code",
      "source": [
        "#8. Write a program to demonstrate the use of logical operators\n",
        "\n",
        "# Logical Operators Demo\n",
        "\n",
        "print(\"Logical Operators Demonstration\\n\")\n",
        "\n",
        "# Input two boolean values from the user\n",
        "a = input(\"Enter first value (True/False): \")\n",
        "b = input(\"Enter second value (True/False): \")\n",
        "\n",
        "# Convert input strings to boolean values\n",
        "a = a.strip().lower() == 'true'\n",
        "b = b.strip().lower() == 'true'\n",
        "\n",
        "# Demonstrate 'and' operator\n",
        "and_result = a and b\n",
        "print(f\"\\nResult of {a} AND {b} is: {and_result}\")\n",
        "\n",
        "# Demonstrate 'or' operator\n",
        "or_result = a or b\n",
        "print(f\"Result of {a} OR {b} is: {or_result}\")\n",
        "\n",
        "# Demonstrate 'not' operator\n",
        "not_a = not a\n",
        "not_b = not b\n",
        "print(f\"Result of NOT {a} is: {not_a}\")\n",
        "print(f\"Result of NOT {b} is: {not_b}\")\n"
      ],
      "metadata": {
        "colab": {
          "base_uri": "https://localhost:8080/"
        },
        "id": "uv3KsI8E8lOC",
        "outputId": "66f81d67-17ad-40e5-fcbf-d154b0cbc137"
      },
      "execution_count": 13,
      "outputs": [
        {
          "output_type": "stream",
          "name": "stdout",
          "text": [
            "Logical Operators Demonstration\n",
            "\n",
            "Enter first value (True/False): 23\n",
            "Enter second value (True/False): 54\n",
            "\n",
            "Result of False AND False is: False\n",
            "Result of False OR False is: False\n",
            "Result of NOT False is: True\n",
            "Result of NOT False is: True\n"
          ]
        }
      ]
    },
    {
      "cell_type": "code",
      "metadata": {
        "colab": {
          "base_uri": "https://localhost:8080/"
        },
        "id": "4abb3b15",
        "outputId": "686f8f4a-544e-47af-934d-0da6a28faa4e"
      },
      "source": [
        "#9. Write a Python program to convert user input from string to integer, float, and boolean types.\n",
        "\n",
        "user_input_str = input(\"Enter a value: \")\n",
        "\n",
        "# Convert to integer\n",
        "try:\n",
        "    int_value = int(user_input_str)\n",
        "    print(f\"Converted to integer: {int_value} (Type: {type(int_value)})\")\n",
        "except ValueError:\n",
        "    print(f\"Could not convert '{user_input_str}' to integer.\")\n",
        "\n",
        "# Convert to float\n",
        "try:\n",
        "    float_value = float(user_input_str)\n",
        "    print(f\"Converted to float: {float_value} (Type: {type(float_value)})\")\n",
        "except ValueError:\n",
        "    print(f\"Could not convert '{user_input_str}' to float.\")\n",
        "\n",
        "# Convert to boolean\n",
        "# Simple conversion: 'True' (case-insensitive) to True, anything else to False\n",
        "bool_value = user_input_str.strip().lower() == 'true'\n",
        "print(f\"Converted to boolean: {bool_value} (Type: {type(bool_value)})\")"
      ],
      "execution_count": 14,
      "outputs": [
        {
          "output_type": "stream",
          "name": "stdout",
          "text": [
            "Enter a value: 11\n",
            "Converted to integer: 11 (Type: <class 'int'>)\n",
            "Converted to float: 11.0 (Type: <class 'float'>)\n",
            "Converted to boolean: False (Type: <class 'bool'>)\n"
          ]
        }
      ]
    },
    {
      "cell_type": "code",
      "metadata": {
        "colab": {
          "base_uri": "https://localhost:8080/"
        },
        "id": "91df269e",
        "outputId": "7a664e16-c642-4614-c0a1-2c69667b0ff8"
      },
      "source": [
        "#10. Write code to demonstrate type casting with list elements.\n",
        "\n",
        "# Create a list with elements of different types\n",
        "my_list = [\"10\", 20, 30.5, \"40\", True]\n",
        "print(\"Original list:\", my_list)\n",
        "\n",
        "# Demonstrate casting elements to integers (if possible)\n",
        "casted_to_int = []\n",
        "for item in my_list:\n",
        "    try:\n",
        "        casted_to_int.append(int(item))\n",
        "    except (ValueError, TypeError):\n",
        "        casted_to_int.append(f\"Could not cast '{item}' to int\") # Handle elements that cannot be cast\n",
        "print(\"Casted to integer (where possible):\", casted_to_int)\n",
        "\n",
        "# Demonstrate casting elements to strings\n",
        "casted_to_str = [str(item) for item in my_list]\n",
        "print(\"Casted to string:\", casted_to_str)\n",
        "\n",
        "# Demonstrate casting elements to float (if possible)\n",
        "casted_to_float = []\n",
        "for item in my_list:\n",
        "    try:\n",
        "        casted_to_float.append(float(item))\n",
        "    except (ValueError, TypeError):\n",
        "        casted_to_float.append(f\"Could not cast '{item}' to float\") # Handle elements that cannot be cast\n",
        "print(\"Casted to float (where possible):\", casted_to_float)"
      ],
      "execution_count": 15,
      "outputs": [
        {
          "output_type": "stream",
          "name": "stdout",
          "text": [
            "Original list: ['10', 20, 30.5, '40', True]\n",
            "Casted to integer (where possible): [10, 20, 30, 40, 1]\n",
            "Casted to string: ['10', '20', '30.5', '40', 'True']\n",
            "Casted to float (where possible): [10.0, 20.0, 30.5, 40.0, 1.0]\n"
          ]
        }
      ]
    },
    {
      "cell_type": "code",
      "source": [
        "#11. Write a program that checks if a number is positive, negative, or zero.\n",
        "\n",
        "num = float(input(\"Enter a number: \"))\n",
        "\n",
        "if num > 0:\n",
        "    print(\"The number is positive.\")\n",
        "elif num < 0:\n",
        "    print(\"The number is negative.\")\n",
        "else:\n",
        "    print(\"The number is zero.\")\n"
      ],
      "metadata": {
        "colab": {
          "base_uri": "https://localhost:8080/"
        },
        "id": "zRbPHk3E9hGp",
        "outputId": "71555ddc-de3a-4054-eee6-9a08ff41a8b3"
      },
      "execution_count": 16,
      "outputs": [
        {
          "output_type": "stream",
          "name": "stdout",
          "text": [
            "Enter a number: 22.44\n",
            "The number is positive.\n"
          ]
        }
      ]
    },
    {
      "cell_type": "code",
      "metadata": {
        "colab": {
          "base_uri": "https://localhost:8080/"
        },
        "id": "ee059245",
        "outputId": "47d3904f-0a58-4698-aa0b-27170620a741"
      },
      "source": [
        "#12. Write a for loop to print numbers from 1 to 10.\n",
        "\n",
        "for i in range(1, 11):\n",
        "    print(i)"
      ],
      "execution_count": 17,
      "outputs": [
        {
          "output_type": "stream",
          "name": "stdout",
          "text": [
            "1\n",
            "2\n",
            "3\n",
            "4\n",
            "5\n",
            "6\n",
            "7\n",
            "8\n",
            "9\n",
            "10\n"
          ]
        }
      ]
    },
    {
      "cell_type": "code",
      "source": [
        "#13. Write a Python program to find the sum of all even numbers between 1 and 50.\n",
        "\n",
        "sum_even = 0\n",
        "\n",
        "for num in range(2, 51, 2):\n",
        "    sum_even += num\n",
        "\n",
        "print(\"The sum of even numbers from 1 to 50 is:\", sum_even)"
      ],
      "metadata": {
        "colab": {
          "base_uri": "https://localhost:8080/"
        },
        "id": "600JQ5eS9zm5",
        "outputId": "20ba9d57-f736-45b3-a486-4b168fbe7e86"
      },
      "execution_count": 18,
      "outputs": [
        {
          "output_type": "stream",
          "name": "stdout",
          "text": [
            "The sum of even numbers from 1 to 50 is: 650\n"
          ]
        }
      ]
    },
    {
      "cell_type": "code",
      "metadata": {
        "colab": {
          "base_uri": "https://localhost:8080/"
        },
        "id": "158c75ff",
        "outputId": "400d086c-e72c-4939-cfa0-7aeac6efeed5"
      },
      "source": [
        "#14. Write a program to reverse a string using a while loop.\n",
        "\n",
        "input_string = input(\"Enter a string to reverse: \")\n",
        "reversed_string = \"\"\n",
        "index = len(input_string) - 1\n",
        "\n",
        "while index >= 0:\n",
        "    reversed_string += input_string[index]\n",
        "    index -= 1\n",
        "\n",
        "print(\"Original string:\", input_string)\n",
        "print(\"Reversed string:\", reversed_string)"
      ],
      "execution_count": 19,
      "outputs": [
        {
          "output_type": "stream",
          "name": "stdout",
          "text": [
            "Enter a string to reverse: 123456789\n",
            "Original string: 123456789\n",
            "Reversed string: 987654321\n"
          ]
        }
      ]
    },
    {
      "cell_type": "code",
      "source": [
        "#15. Write a Python program to calculate the factorial of a number provided by the user using a while loop.\n",
        "\n",
        "# Factorial calculation using while loop\n",
        "\n",
        "# Get input from the user\n",
        "num = int(input(\"Enter a non-negative integer: \"))\n",
        "\n",
        "# Check for negative input\n",
        "if num < 0:\n",
        "    print(\"Factorial is not defined for negative numbers.\")\n",
        "else:\n",
        "    factorial = 1\n",
        "    i = 1\n",
        "\n",
        "    while i <= num:\n",
        "        factorial *= i\n",
        "        i += 1\n",
        "\n",
        "    print(f\"The factorial of {num} is: {factorial}\")"
      ],
      "metadata": {
        "colab": {
          "base_uri": "https://localhost:8080/"
        },
        "id": "IY521Lt3-TlU",
        "outputId": "f9473aaf-533d-47e4-ff71-76b626f5f81a"
      },
      "execution_count": 23,
      "outputs": [
        {
          "output_type": "stream",
          "name": "stdout",
          "text": [
            "Enter a non-negative integer: 6\n",
            "The factorial of 6 is: 720\n"
          ]
        }
      ]
    }
  ]
}